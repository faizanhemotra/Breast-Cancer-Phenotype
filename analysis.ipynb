{
 "cells": [
  {
   "cell_type": "code",
   "execution_count": 1,
   "id": "2fd7b0b5",
   "metadata": {
    "ExecuteTime": {
     "end_time": "2022-03-07T14:48:01.533686Z",
     "start_time": "2022-03-07T14:48:01.141463Z"
    }
   },
   "outputs": [],
   "source": [
    "# Importing libraries\n",
    "import numpy as np\n",
    "import pandas as pd\n",
    "import requests"
   ]
  },
  {
   "cell_type": "markdown",
   "id": "5bdb5196",
   "metadata": {},
   "source": [
    "## EDA"
   ]
  },
  {
   "cell_type": "code",
   "execution_count": 2,
   "id": "ab89a065",
   "metadata": {
    "ExecuteTime": {
     "end_time": "2022-03-07T14:48:01.549275Z",
     "start_time": "2022-03-07T14:48:01.533686Z"
    }
   },
   "outputs": [],
   "source": [
    "BASE_URL = 'https://xenabrowser.net/datapages/?cohort=Breast%20Cancer%20(Miller%202005)&removeHub=https%3A%2F%2Fxena.treehouse.gi.ucsc.edu%3A443'\n",
    "PHENOTYPE_URL = 'https://ucsc-public-main-xena-hub.s3.us-east-1.amazonaws.com/download/miller2005_public%2Fmiller2005_public_clinicalMatrix.gz'\n",
    "GENE_EXP = 'https://ucsc-public-main-xena-hub.s3.us-east-1.amazonaws.com/download/miller2005_public%2Fmiller2005_genomicMatrix.gz'"
   ]
  },
  {
   "cell_type": "code",
   "execution_count": 3,
   "id": "932c506b",
   "metadata": {
    "ExecuteTime": {
     "end_time": "2022-03-07T14:48:02.083353Z",
     "start_time": "2022-03-07T14:48:01.549275Z"
    }
   },
   "outputs": [],
   "source": [
    "filename = PHENOTYPE_URL.split(\"/\")[-1]\n",
    "with open(filename, \"wb\") as f:\n",
    "    r = requests.get(PHENOTYPE_URL)\n",
    "    f.write(r.content)"
   ]
  },
  {
   "cell_type": "code",
   "execution_count": 4,
   "id": "d1ff899a",
   "metadata": {
    "ExecuteTime": {
     "end_time": "2022-03-07T14:48:02.114816Z",
     "start_time": "2022-03-07T14:48:02.083353Z"
    }
   },
   "outputs": [],
   "source": [
    "import gzip\n",
    "with gzip.open(filename) as f:\n",
    "    pheno_df = pd.read_csv(f, sep='\\t')"
   ]
  },
  {
   "cell_type": "code",
   "execution_count": 5,
   "id": "c2dbf1d3",
   "metadata": {
    "ExecuteTime": {
     "end_time": "2022-03-07T14:48:02.151609Z",
     "start_time": "2022-03-07T14:48:02.114816Z"
    }
   },
   "outputs": [
    {
     "data": {
      "text/html": [
       "<div>\n",
       "<style scoped>\n",
       "    .dataframe tbody tr th:only-of-type {\n",
       "        vertical-align: middle;\n",
       "    }\n",
       "\n",
       "    .dataframe tbody tr th {\n",
       "        vertical-align: top;\n",
       "    }\n",
       "\n",
       "    .dataframe thead th {\n",
       "        text-align: right;\n",
       "    }\n",
       "</style>\n",
       "<table border=\"1\" class=\"dataframe\">\n",
       "  <thead>\n",
       "    <tr style=\"text-align: right;\">\n",
       "      <th></th>\n",
       "      <th>sampleID</th>\n",
       "      <th>AgeAtDiagnosis</th>\n",
       "      <th>DLDAerror</th>\n",
       "      <th>DSS</th>\n",
       "      <th>DSS.time</th>\n",
       "      <th>ERstatus</th>\n",
       "      <th>EistonHistologicGrade</th>\n",
       "      <th>LymphNodeStatus</th>\n",
       "      <th>PgRstatus</th>\n",
       "      <th>TumorSize</th>\n",
       "      <th>_INTEGRATION</th>\n",
       "      <th>_PATIENT</th>\n",
       "      <th>p53DLDAclassResult</th>\n",
       "      <th>p53mutant</th>\n",
       "      <th>_GENOMIC_ID_miller2005</th>\n",
       "    </tr>\n",
       "  </thead>\n",
       "  <tbody>\n",
       "    <tr>\n",
       "      <th>0</th>\n",
       "      <td>X100B08</td>\n",
       "      <td>68</td>\n",
       "      <td>No</td>\n",
       "      <td>AliveOrCensored</td>\n",
       "      <td>12.0</td>\n",
       "      <td>ER+</td>\n",
       "      <td>G1</td>\n",
       "      <td>LN-</td>\n",
       "      <td>PgR-</td>\n",
       "      <td>9.0</td>\n",
       "      <td>X100B08</td>\n",
       "      <td>X100B08</td>\n",
       "      <td>WT-like</td>\n",
       "      <td>p53-</td>\n",
       "      <td>X100B08</td>\n",
       "    </tr>\n",
       "    <tr>\n",
       "      <th>1</th>\n",
       "      <td>X101B88</td>\n",
       "      <td>40</td>\n",
       "      <td>No</td>\n",
       "      <td>AliveOrCensored</td>\n",
       "      <td>12.0</td>\n",
       "      <td>ER-</td>\n",
       "      <td>G3</td>\n",
       "      <td>LN-</td>\n",
       "      <td>PgR-</td>\n",
       "      <td>12.0</td>\n",
       "      <td>X101B88</td>\n",
       "      <td>X101B88</td>\n",
       "      <td>MT-like</td>\n",
       "      <td>p53+</td>\n",
       "      <td>X101B88</td>\n",
       "    </tr>\n",
       "    <tr>\n",
       "      <th>2</th>\n",
       "      <td>X102B06</td>\n",
       "      <td>51</td>\n",
       "      <td>No</td>\n",
       "      <td>AliveOrCensored</td>\n",
       "      <td>12.0</td>\n",
       "      <td>ER+</td>\n",
       "      <td>G3</td>\n",
       "      <td>LN-</td>\n",
       "      <td>PgR+</td>\n",
       "      <td>26.0</td>\n",
       "      <td>X102B06</td>\n",
       "      <td>X102B06</td>\n",
       "      <td>MT-like</td>\n",
       "      <td>p53+</td>\n",
       "      <td>X102B06</td>\n",
       "    </tr>\n",
       "    <tr>\n",
       "      <th>3</th>\n",
       "      <td>X103B41</td>\n",
       "      <td>52</td>\n",
       "      <td>Yes</td>\n",
       "      <td>NaN</td>\n",
       "      <td>NaN</td>\n",
       "      <td>ER-</td>\n",
       "      <td>G3</td>\n",
       "      <td>LN+</td>\n",
       "      <td>PgR-</td>\n",
       "      <td>22.0</td>\n",
       "      <td>X103B41</td>\n",
       "      <td>X103B41</td>\n",
       "      <td>MT-like</td>\n",
       "      <td>p53-</td>\n",
       "      <td>X103B41</td>\n",
       "    </tr>\n",
       "    <tr>\n",
       "      <th>4</th>\n",
       "      <td>X104B91</td>\n",
       "      <td>80</td>\n",
       "      <td>Yes</td>\n",
       "      <td>AliveOrCensored</td>\n",
       "      <td>4.0</td>\n",
       "      <td>ER+</td>\n",
       "      <td>G3</td>\n",
       "      <td>NaN</td>\n",
       "      <td>PgR+</td>\n",
       "      <td>24.0</td>\n",
       "      <td>X104B91</td>\n",
       "      <td>X104B91</td>\n",
       "      <td>WT-like</td>\n",
       "      <td>p53+</td>\n",
       "      <td>X104B91</td>\n",
       "    </tr>\n",
       "    <tr>\n",
       "      <th>...</th>\n",
       "      <td>...</td>\n",
       "      <td>...</td>\n",
       "      <td>...</td>\n",
       "      <td>...</td>\n",
       "      <td>...</td>\n",
       "      <td>...</td>\n",
       "      <td>...</td>\n",
       "      <td>...</td>\n",
       "      <td>...</td>\n",
       "      <td>...</td>\n",
       "      <td>...</td>\n",
       "      <td>...</td>\n",
       "      <td>...</td>\n",
       "      <td>...</td>\n",
       "      <td>...</td>\n",
       "    </tr>\n",
       "    <tr>\n",
       "      <th>246</th>\n",
       "      <td>X90A63</td>\n",
       "      <td>76</td>\n",
       "      <td>Yes</td>\n",
       "      <td>AliveOrCensored</td>\n",
       "      <td>3.0</td>\n",
       "      <td>ER+</td>\n",
       "      <td>G3</td>\n",
       "      <td>LN-</td>\n",
       "      <td>PgR-</td>\n",
       "      <td>26.0</td>\n",
       "      <td>X90A63</td>\n",
       "      <td>X90A63</td>\n",
       "      <td>MT-like</td>\n",
       "      <td>p53-</td>\n",
       "      <td>X90A63</td>\n",
       "    </tr>\n",
       "    <tr>\n",
       "      <th>247</th>\n",
       "      <td>X94A16</td>\n",
       "      <td>73</td>\n",
       "      <td>No</td>\n",
       "      <td>NaN</td>\n",
       "      <td>NaN</td>\n",
       "      <td>ER+</td>\n",
       "      <td>G2</td>\n",
       "      <td>LN-</td>\n",
       "      <td>PgR+</td>\n",
       "      <td>6.0</td>\n",
       "      <td>X94A16</td>\n",
       "      <td>X94A16</td>\n",
       "      <td>WT-like</td>\n",
       "      <td>p53-</td>\n",
       "      <td>X94A16</td>\n",
       "    </tr>\n",
       "    <tr>\n",
       "      <th>248</th>\n",
       "      <td>X96A21</td>\n",
       "      <td>63</td>\n",
       "      <td>No</td>\n",
       "      <td>DeathFromCancer</td>\n",
       "      <td>0.0</td>\n",
       "      <td>ER+</td>\n",
       "      <td>G2</td>\n",
       "      <td>LN+</td>\n",
       "      <td>PgR+</td>\n",
       "      <td>38.0</td>\n",
       "      <td>X96A21</td>\n",
       "      <td>X96A21</td>\n",
       "      <td>WT-like</td>\n",
       "      <td>p53-</td>\n",
       "      <td>X96A21</td>\n",
       "    </tr>\n",
       "    <tr>\n",
       "      <th>249</th>\n",
       "      <td>X99A50</td>\n",
       "      <td>82</td>\n",
       "      <td>Yes</td>\n",
       "      <td>AliveOrCensored</td>\n",
       "      <td>11.0</td>\n",
       "      <td>ER+</td>\n",
       "      <td>G1</td>\n",
       "      <td>LN-</td>\n",
       "      <td>PgR+</td>\n",
       "      <td>19.0</td>\n",
       "      <td>X99A50</td>\n",
       "      <td>X99A50</td>\n",
       "      <td>WT-like</td>\n",
       "      <td>p53+</td>\n",
       "      <td>X99A50</td>\n",
       "    </tr>\n",
       "    <tr>\n",
       "      <th>250</th>\n",
       "      <td>X9B52</td>\n",
       "      <td>71</td>\n",
       "      <td>No</td>\n",
       "      <td>AliveOrCensored</td>\n",
       "      <td>11.0</td>\n",
       "      <td>ER+</td>\n",
       "      <td>G2</td>\n",
       "      <td>LN-</td>\n",
       "      <td>PgR+</td>\n",
       "      <td>12.0</td>\n",
       "      <td>X9B52</td>\n",
       "      <td>X9B52</td>\n",
       "      <td>WT-like</td>\n",
       "      <td>p53-</td>\n",
       "      <td>X9B52</td>\n",
       "    </tr>\n",
       "  </tbody>\n",
       "</table>\n",
       "<p>251 rows × 15 columns</p>\n",
       "</div>"
      ],
      "text/plain": [
       "    sampleID  AgeAtDiagnosis DLDAerror              DSS  DSS.time ERstatus  \\\n",
       "0    X100B08              68        No  AliveOrCensored      12.0      ER+   \n",
       "1    X101B88              40        No  AliveOrCensored      12.0      ER-   \n",
       "2    X102B06              51        No  AliveOrCensored      12.0      ER+   \n",
       "3    X103B41              52       Yes              NaN       NaN      ER-   \n",
       "4    X104B91              80       Yes  AliveOrCensored       4.0      ER+   \n",
       "..       ...             ...       ...              ...       ...      ...   \n",
       "246   X90A63              76       Yes  AliveOrCensored       3.0      ER+   \n",
       "247   X94A16              73        No              NaN       NaN      ER+   \n",
       "248   X96A21              63        No  DeathFromCancer       0.0      ER+   \n",
       "249   X99A50              82       Yes  AliveOrCensored      11.0      ER+   \n",
       "250    X9B52              71        No  AliveOrCensored      11.0      ER+   \n",
       "\n",
       "    EistonHistologicGrade LymphNodeStatus PgRstatus  TumorSize _INTEGRATION  \\\n",
       "0                      G1             LN-      PgR-        9.0      X100B08   \n",
       "1                      G3             LN-      PgR-       12.0      X101B88   \n",
       "2                      G3             LN-      PgR+       26.0      X102B06   \n",
       "3                      G3             LN+      PgR-       22.0      X103B41   \n",
       "4                      G3             NaN      PgR+       24.0      X104B91   \n",
       "..                    ...             ...       ...        ...          ...   \n",
       "246                    G3             LN-      PgR-       26.0       X90A63   \n",
       "247                    G2             LN-      PgR+        6.0       X94A16   \n",
       "248                    G2             LN+      PgR+       38.0       X96A21   \n",
       "249                    G1             LN-      PgR+       19.0       X99A50   \n",
       "250                    G2             LN-      PgR+       12.0        X9B52   \n",
       "\n",
       "    _PATIENT p53DLDAclassResult p53mutant _GENOMIC_ID_miller2005  \n",
       "0    X100B08            WT-like      p53-                X100B08  \n",
       "1    X101B88            MT-like      p53+                X101B88  \n",
       "2    X102B06            MT-like      p53+                X102B06  \n",
       "3    X103B41            MT-like      p53-                X103B41  \n",
       "4    X104B91            WT-like      p53+                X104B91  \n",
       "..       ...                ...       ...                    ...  \n",
       "246   X90A63            MT-like      p53-                 X90A63  \n",
       "247   X94A16            WT-like      p53-                 X94A16  \n",
       "248   X96A21            WT-like      p53-                 X96A21  \n",
       "249   X99A50            WT-like      p53+                 X99A50  \n",
       "250    X9B52            WT-like      p53-                  X9B52  \n",
       "\n",
       "[251 rows x 15 columns]"
      ]
     },
     "execution_count": 5,
     "metadata": {},
     "output_type": "execute_result"
    }
   ],
   "source": [
    "pheno_df"
   ]
  },
  {
   "cell_type": "code",
   "execution_count": 6,
   "id": "273a99ce",
   "metadata": {
    "ExecuteTime": {
     "end_time": "2022-03-07T14:48:02.167192Z",
     "start_time": "2022-03-07T14:48:02.151609Z"
    }
   },
   "outputs": [
    {
     "data": {
      "text/plain": [
       "(251, 15)"
      ]
     },
     "execution_count": 6,
     "metadata": {},
     "output_type": "execute_result"
    }
   ],
   "source": [
    "pheno_df.shape"
   ]
  },
  {
   "cell_type": "code",
   "execution_count": 7,
   "id": "62968ca6",
   "metadata": {
    "ExecuteTime": {
     "end_time": "2022-03-07T14:48:02.198474Z",
     "start_time": "2022-03-07T14:48:02.167192Z"
    }
   },
   "outputs": [
    {
     "name": "stdout",
     "output_type": "stream",
     "text": [
      "<class 'pandas.core.frame.DataFrame'>\n",
      "RangeIndex: 251 entries, 0 to 250\n",
      "Data columns (total 15 columns):\n",
      " #   Column                  Non-Null Count  Dtype  \n",
      "---  ------                  --------------  -----  \n",
      " 0   sampleID                251 non-null    object \n",
      " 1   AgeAtDiagnosis          251 non-null    int64  \n",
      " 2   DLDAerror               251 non-null    object \n",
      " 3   DSS                     236 non-null    object \n",
      " 4   DSS.time                236 non-null    float64\n",
      " 5   ERstatus                247 non-null    object \n",
      " 6   EistonHistologicGrade   249 non-null    object \n",
      " 7   LymphNodeStatus         242 non-null    object \n",
      " 8   PgRstatus               251 non-null    object \n",
      " 9   TumorSize               251 non-null    float64\n",
      " 10  _INTEGRATION            251 non-null    object \n",
      " 11  _PATIENT                251 non-null    object \n",
      " 12  p53DLDAclassResult      251 non-null    object \n",
      " 13  p53mutant               251 non-null    object \n",
      " 14  _GENOMIC_ID_miller2005  251 non-null    object \n",
      "dtypes: float64(2), int64(1), object(12)\n",
      "memory usage: 29.5+ KB\n"
     ]
    }
   ],
   "source": [
    "pheno_df.info()"
   ]
  },
  {
   "cell_type": "code",
   "execution_count": 8,
   "id": "e5ea57f8",
   "metadata": {
    "ExecuteTime": {
     "end_time": "2022-03-07T14:48:02.214096Z",
     "start_time": "2022-03-07T14:48:02.198474Z"
    }
   },
   "outputs": [
    {
     "data": {
      "text/plain": [
       "Index(['DSS', 'DSS.time', 'ERstatus', 'EistonHistologicGrade',\n",
       "       'LymphNodeStatus'],\n",
       "      dtype='object')"
      ]
     },
     "execution_count": 8,
     "metadata": {},
     "output_type": "execute_result"
    }
   ],
   "source": [
    "# Columns which have missing values\n",
    "pheno_df.columns[pheno_df.isna().any()]"
   ]
  },
  {
   "cell_type": "code",
   "execution_count": 9,
   "id": "94d579ce",
   "metadata": {
    "ExecuteTime": {
     "end_time": "2022-03-07T14:48:02.236506Z",
     "start_time": "2022-03-07T14:48:02.214096Z"
    }
   },
   "outputs": [
    {
     "name": "stdout",
     "output_type": "stream",
     "text": [
      "DLDAerror: ['No' 'Yes']\n",
      "DSS: ['AliveOrCensored' nan 'DeathFromCancer']\n",
      "DSS.time: [12. nan  4.  7. 11.  2.  6.  9.  5.  8.  0.  3.  1. 10. 13.]\n",
      "ERstatus: ['ER+' 'ER-' nan]\n",
      "EistonHistologicGrade: ['G1' 'G3' 'G2' nan]\n",
      "LymphNodeStatus: ['LN-' 'LN+' nan]\n",
      "PgRstatus: ['PgR-' 'PgR+']\n",
      "p53DLDAclassResult: ['WT-like' 'MT-like']\n",
      "p53mutant: ['p53-' 'p53+']\n"
     ]
    }
   ],
   "source": [
    "# Check unique values of categorical data\n",
    "for col in pheno_df.columns[np.r_[2:9, 12:14]]:\n",
    "    print(f'{col}: {pheno_df[col].unique()}')"
   ]
  }
 ],
 "metadata": {
  "kernelspec": {
   "display_name": "Python 3 (ipykernel)",
   "language": "python",
   "name": "python3"
  },
  "language_info": {
   "codemirror_mode": {
    "name": "ipython",
    "version": 3
   },
   "file_extension": ".py",
   "mimetype": "text/x-python",
   "name": "python",
   "nbconvert_exporter": "python",
   "pygments_lexer": "ipython3",
   "version": "3.8.0"
  },
  "toc": {
   "base_numbering": 1,
   "nav_menu": {},
   "number_sections": true,
   "sideBar": true,
   "skip_h1_title": false,
   "title_cell": "Table of Contents",
   "title_sidebar": "Contents",
   "toc_cell": false,
   "toc_position": {},
   "toc_section_display": true,
   "toc_window_display": false
  },
  "varInspector": {
   "cols": {
    "lenName": 16,
    "lenType": 16,
    "lenVar": 40
   },
   "kernels_config": {
    "python": {
     "delete_cmd_postfix": "",
     "delete_cmd_prefix": "del ",
     "library": "var_list.py",
     "varRefreshCmd": "print(var_dic_list())"
    },
    "r": {
     "delete_cmd_postfix": ") ",
     "delete_cmd_prefix": "rm(",
     "library": "var_list.r",
     "varRefreshCmd": "cat(var_dic_list()) "
    }
   },
   "types_to_exclude": [
    "module",
    "function",
    "builtin_function_or_method",
    "instance",
    "_Feature"
   ],
   "window_display": false
  }
 },
 "nbformat": 4,
 "nbformat_minor": 5
}
