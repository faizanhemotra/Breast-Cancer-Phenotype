{
 "cells": [
  {
   "cell_type": "code",
   "execution_count": 1,
   "id": "2fd7b0b5",
   "metadata": {
    "ExecuteTime": {
     "end_time": "2022-03-07T14:03:14.090756Z",
     "start_time": "2022-03-07T14:03:13.758848Z"
    }
   },
   "outputs": [],
   "source": [
    "# Importing libraries\n",
    "import pandas as pd\n",
    "import requests"
   ]
  },
  {
   "cell_type": "markdown",
   "id": "5bdb5196",
   "metadata": {},
   "source": [
    "## EDA"
   ]
  },
  {
   "cell_type": "code",
   "execution_count": 2,
   "id": "ab89a065",
   "metadata": {
    "ExecuteTime": {
     "end_time": "2022-03-07T14:03:15.813518Z",
     "start_time": "2022-03-07T14:03:15.794789Z"
    }
   },
   "outputs": [],
   "source": [
    "BASE_URL = 'https://xenabrowser.net/datapages/?cohort=Breast%20Cancer%20(Miller%202005)&removeHub=https%3A%2F%2Fxena.treehouse.gi.ucsc.edu%3A443'\n",
    "PHENOTYPE_URL = 'https://ucsc-public-main-xena-hub.s3.us-east-1.amazonaws.com/download/miller2005_public%2Fmiller2005_public_clinicalMatrix.gz'\n",
    "GENE_EXP = 'https://ucsc-public-main-xena-hub.s3.us-east-1.amazonaws.com/download/miller2005_public%2Fmiller2005_genomicMatrix.gz'"
   ]
  },
  {
   "cell_type": "code",
   "execution_count": 3,
   "id": "932c506b",
   "metadata": {
    "ExecuteTime": {
     "end_time": "2022-03-07T14:04:11.487182Z",
     "start_time": "2022-03-07T14:04:11.006264Z"
    }
   },
   "outputs": [],
   "source": [
    "filename = PHENOTYPE_URL.split(\"/\")[-1]\n",
    "with open(filename, \"wb\") as f:\n",
    "    r = requests.get(PHENOTYPE_URL)\n",
    "    f.write(r.content)"
   ]
  },
  {
   "cell_type": "code",
   "execution_count": 4,
   "id": "7ff18882",
   "metadata": {
    "ExecuteTime": {
     "end_time": "2022-03-07T14:04:39.433302Z",
     "start_time": "2022-03-07T14:04:39.396057Z"
    }
   },
   "outputs": [],
   "source": [
    "import gzip\n",
    "with gzip.open(filename) as f:\n",
    "    pheno_df = pd.read_csv(f, sep='\\t')"
   ]
  },
  {
   "cell_type": "code",
   "execution_count": null,
   "id": "41e0db86",
   "metadata": {},
   "outputs": [],
   "source": []
  }
 ],
 "metadata": {
  "kernelspec": {
   "display_name": "Python 3 (ipykernel)",
   "language": "python",
   "name": "python3"
  },
  "language_info": {
   "codemirror_mode": {
    "name": "ipython",
    "version": 3
   },
   "file_extension": ".py",
   "mimetype": "text/x-python",
   "name": "python",
   "nbconvert_exporter": "python",
   "pygments_lexer": "ipython3",
   "version": "3.8.0"
  },
  "toc": {
   "base_numbering": 1,
   "nav_menu": {},
   "number_sections": true,
   "sideBar": true,
   "skip_h1_title": false,
   "title_cell": "Table of Contents",
   "title_sidebar": "Contents",
   "toc_cell": false,
   "toc_position": {},
   "toc_section_display": true,
   "toc_window_display": false
  },
  "varInspector": {
   "cols": {
    "lenName": 16,
    "lenType": 16,
    "lenVar": 40
   },
   "kernels_config": {
    "python": {
     "delete_cmd_postfix": "",
     "delete_cmd_prefix": "del ",
     "library": "var_list.py",
     "varRefreshCmd": "print(var_dic_list())"
    },
    "r": {
     "delete_cmd_postfix": ") ",
     "delete_cmd_prefix": "rm(",
     "library": "var_list.r",
     "varRefreshCmd": "cat(var_dic_list()) "
    }
   },
   "types_to_exclude": [
    "module",
    "function",
    "builtin_function_or_method",
    "instance",
    "_Feature"
   ],
   "window_display": false
  }
 },
 "nbformat": 4,
 "nbformat_minor": 5
}
