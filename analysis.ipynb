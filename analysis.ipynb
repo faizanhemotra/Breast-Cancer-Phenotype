{
 "cells": [
  {
   "cell_type": "code",
   "execution_count": 1,
   "id": "2fd7b0b5",
   "metadata": {
    "ExecuteTime": {
     "end_time": "2022-03-10T01:46:59.975249Z",
     "start_time": "2022-03-10T01:46:58.252662Z"
    }
   },
   "outputs": [],
   "source": [
    "# Importing libraries\n",
    "import matplotlib.pyplot as plt \n",
    "import numpy as np\n",
    "import pandas as pd\n",
    "import requests\n",
    "import seaborn as sns\n",
    "\n",
    "from sklearn.metrics import classification_report, plot_confusion_matrix, r2_score\n",
    "from sklearn.model_selection import GridSearchCV, train_test_split\n",
    "from typing import List, Optional"
   ]
  },
  {
   "cell_type": "markdown",
   "id": "5bdb5196",
   "metadata": {},
   "source": [
    "## EDA"
   ]
  },
  {
   "cell_type": "code",
   "execution_count": 2,
   "id": "ab89a065",
   "metadata": {
    "ExecuteTime": {
     "end_time": "2022-03-10T01:46:59.990537Z",
     "start_time": "2022-03-10T01:46:59.978473Z"
    }
   },
   "outputs": [],
   "source": [
    "BASE_URL = 'https://xenabrowser.net/datapages/?cohort=Breast%20Cancer%20(Miller%202005)&removeHub=https%3A%2F%2Fxena.treehouse.gi.ucsc.edu%3A443'\n",
    "PHENOTYPE_URL = 'https://ucsc-public-main-xena-hub.s3.us-east-1.amazonaws.com/download/miller2005_public%2Fmiller2005_public_clinicalMatrix.gz'\n",
    "GENE_EXP = 'https://ucsc-public-main-xena-hub.s3.us-east-1.amazonaws.com/download/miller2005_public%2Fmiller2005_genomicMatrix.gz'"
   ]
  },
  {
   "cell_type": "code",
   "execution_count": 3,
   "id": "932c506b",
   "metadata": {
    "ExecuteTime": {
     "end_time": "2022-03-10T01:47:00.559382Z",
     "start_time": "2022-03-10T01:46:59.992741Z"
    }
   },
   "outputs": [],
   "source": [
    "filename = PHENOTYPE_URL.split(\"/\")[-1]\n",
    "with open(filename, \"wb\") as f:\n",
    "    r = requests.get(PHENOTYPE_URL)\n",
    "    f.write(r.content)"
   ]
  },
  {
   "cell_type": "code",
   "execution_count": 4,
   "id": "aefdd0a2",
   "metadata": {
    "ExecuteTime": {
     "end_time": "2022-03-10T01:47:00.574999Z",
     "start_time": "2022-03-10T01:47:00.560837Z"
    }
   },
   "outputs": [],
   "source": [
    "import gzip\n",
    "with gzip.open(filename) as f:\n",
    "    pheno_df = pd.read_csv(f, sep='\\t')"
   ]
  },
  {
   "cell_type": "code",
   "execution_count": 5,
   "id": "b226bb57",
   "metadata": {
    "ExecuteTime": {
     "end_time": "2022-03-10T01:47:00.606125Z",
     "start_time": "2022-03-10T01:47:00.576003Z"
    }
   },
   "outputs": [
    {
     "data": {
      "text/html": [
       "<div>\n",
       "<style scoped>\n",
       "    .dataframe tbody tr th:only-of-type {\n",
       "        vertical-align: middle;\n",
       "    }\n",
       "\n",
       "    .dataframe tbody tr th {\n",
       "        vertical-align: top;\n",
       "    }\n",
       "\n",
       "    .dataframe thead th {\n",
       "        text-align: right;\n",
       "    }\n",
       "</style>\n",
       "<table border=\"1\" class=\"dataframe\">\n",
       "  <thead>\n",
       "    <tr style=\"text-align: right;\">\n",
       "      <th></th>\n",
       "      <th>sampleID</th>\n",
       "      <th>AgeAtDiagnosis</th>\n",
       "      <th>DLDAerror</th>\n",
       "      <th>DSS</th>\n",
       "      <th>DSS.time</th>\n",
       "      <th>ERstatus</th>\n",
       "      <th>EistonHistologicGrade</th>\n",
       "      <th>LymphNodeStatus</th>\n",
       "      <th>PgRstatus</th>\n",
       "      <th>TumorSize</th>\n",
       "      <th>_INTEGRATION</th>\n",
       "      <th>_PATIENT</th>\n",
       "      <th>p53DLDAclassResult</th>\n",
       "      <th>p53mutant</th>\n",
       "      <th>_GENOMIC_ID_miller2005</th>\n",
       "    </tr>\n",
       "  </thead>\n",
       "  <tbody>\n",
       "    <tr>\n",
       "      <th>0</th>\n",
       "      <td>X100B08</td>\n",
       "      <td>68</td>\n",
       "      <td>No</td>\n",
       "      <td>AliveOrCensored</td>\n",
       "      <td>12.0</td>\n",
       "      <td>ER+</td>\n",
       "      <td>G1</td>\n",
       "      <td>LN-</td>\n",
       "      <td>PgR-</td>\n",
       "      <td>9.0</td>\n",
       "      <td>X100B08</td>\n",
       "      <td>X100B08</td>\n",
       "      <td>WT-like</td>\n",
       "      <td>p53-</td>\n",
       "      <td>X100B08</td>\n",
       "    </tr>\n",
       "    <tr>\n",
       "      <th>1</th>\n",
       "      <td>X101B88</td>\n",
       "      <td>40</td>\n",
       "      <td>No</td>\n",
       "      <td>AliveOrCensored</td>\n",
       "      <td>12.0</td>\n",
       "      <td>ER-</td>\n",
       "      <td>G3</td>\n",
       "      <td>LN-</td>\n",
       "      <td>PgR-</td>\n",
       "      <td>12.0</td>\n",
       "      <td>X101B88</td>\n",
       "      <td>X101B88</td>\n",
       "      <td>MT-like</td>\n",
       "      <td>p53+</td>\n",
       "      <td>X101B88</td>\n",
       "    </tr>\n",
       "    <tr>\n",
       "      <th>2</th>\n",
       "      <td>X102B06</td>\n",
       "      <td>51</td>\n",
       "      <td>No</td>\n",
       "      <td>AliveOrCensored</td>\n",
       "      <td>12.0</td>\n",
       "      <td>ER+</td>\n",
       "      <td>G3</td>\n",
       "      <td>LN-</td>\n",
       "      <td>PgR+</td>\n",
       "      <td>26.0</td>\n",
       "      <td>X102B06</td>\n",
       "      <td>X102B06</td>\n",
       "      <td>MT-like</td>\n",
       "      <td>p53+</td>\n",
       "      <td>X102B06</td>\n",
       "    </tr>\n",
       "    <tr>\n",
       "      <th>3</th>\n",
       "      <td>X103B41</td>\n",
       "      <td>52</td>\n",
       "      <td>Yes</td>\n",
       "      <td>NaN</td>\n",
       "      <td>NaN</td>\n",
       "      <td>ER-</td>\n",
       "      <td>G3</td>\n",
       "      <td>LN+</td>\n",
       "      <td>PgR-</td>\n",
       "      <td>22.0</td>\n",
       "      <td>X103B41</td>\n",
       "      <td>X103B41</td>\n",
       "      <td>MT-like</td>\n",
       "      <td>p53-</td>\n",
       "      <td>X103B41</td>\n",
       "    </tr>\n",
       "    <tr>\n",
       "      <th>4</th>\n",
       "      <td>X104B91</td>\n",
       "      <td>80</td>\n",
       "      <td>Yes</td>\n",
       "      <td>AliveOrCensored</td>\n",
       "      <td>4.0</td>\n",
       "      <td>ER+</td>\n",
       "      <td>G3</td>\n",
       "      <td>NaN</td>\n",
       "      <td>PgR+</td>\n",
       "      <td>24.0</td>\n",
       "      <td>X104B91</td>\n",
       "      <td>X104B91</td>\n",
       "      <td>WT-like</td>\n",
       "      <td>p53+</td>\n",
       "      <td>X104B91</td>\n",
       "    </tr>\n",
       "    <tr>\n",
       "      <th>...</th>\n",
       "      <td>...</td>\n",
       "      <td>...</td>\n",
       "      <td>...</td>\n",
       "      <td>...</td>\n",
       "      <td>...</td>\n",
       "      <td>...</td>\n",
       "      <td>...</td>\n",
       "      <td>...</td>\n",
       "      <td>...</td>\n",
       "      <td>...</td>\n",
       "      <td>...</td>\n",
       "      <td>...</td>\n",
       "      <td>...</td>\n",
       "      <td>...</td>\n",
       "      <td>...</td>\n",
       "    </tr>\n",
       "    <tr>\n",
       "      <th>246</th>\n",
       "      <td>X90A63</td>\n",
       "      <td>76</td>\n",
       "      <td>Yes</td>\n",
       "      <td>AliveOrCensored</td>\n",
       "      <td>3.0</td>\n",
       "      <td>ER+</td>\n",
       "      <td>G3</td>\n",
       "      <td>LN-</td>\n",
       "      <td>PgR-</td>\n",
       "      <td>26.0</td>\n",
       "      <td>X90A63</td>\n",
       "      <td>X90A63</td>\n",
       "      <td>MT-like</td>\n",
       "      <td>p53-</td>\n",
       "      <td>X90A63</td>\n",
       "    </tr>\n",
       "    <tr>\n",
       "      <th>247</th>\n",
       "      <td>X94A16</td>\n",
       "      <td>73</td>\n",
       "      <td>No</td>\n",
       "      <td>NaN</td>\n",
       "      <td>NaN</td>\n",
       "      <td>ER+</td>\n",
       "      <td>G2</td>\n",
       "      <td>LN-</td>\n",
       "      <td>PgR+</td>\n",
       "      <td>6.0</td>\n",
       "      <td>X94A16</td>\n",
       "      <td>X94A16</td>\n",
       "      <td>WT-like</td>\n",
       "      <td>p53-</td>\n",
       "      <td>X94A16</td>\n",
       "    </tr>\n",
       "    <tr>\n",
       "      <th>248</th>\n",
       "      <td>X96A21</td>\n",
       "      <td>63</td>\n",
       "      <td>No</td>\n",
       "      <td>DeathFromCancer</td>\n",
       "      <td>0.0</td>\n",
       "      <td>ER+</td>\n",
       "      <td>G2</td>\n",
       "      <td>LN+</td>\n",
       "      <td>PgR+</td>\n",
       "      <td>38.0</td>\n",
       "      <td>X96A21</td>\n",
       "      <td>X96A21</td>\n",
       "      <td>WT-like</td>\n",
       "      <td>p53-</td>\n",
       "      <td>X96A21</td>\n",
       "    </tr>\n",
       "    <tr>\n",
       "      <th>249</th>\n",
       "      <td>X99A50</td>\n",
       "      <td>82</td>\n",
       "      <td>Yes</td>\n",
       "      <td>AliveOrCensored</td>\n",
       "      <td>11.0</td>\n",
       "      <td>ER+</td>\n",
       "      <td>G1</td>\n",
       "      <td>LN-</td>\n",
       "      <td>PgR+</td>\n",
       "      <td>19.0</td>\n",
       "      <td>X99A50</td>\n",
       "      <td>X99A50</td>\n",
       "      <td>WT-like</td>\n",
       "      <td>p53+</td>\n",
       "      <td>X99A50</td>\n",
       "    </tr>\n",
       "    <tr>\n",
       "      <th>250</th>\n",
       "      <td>X9B52</td>\n",
       "      <td>71</td>\n",
       "      <td>No</td>\n",
       "      <td>AliveOrCensored</td>\n",
       "      <td>11.0</td>\n",
       "      <td>ER+</td>\n",
       "      <td>G2</td>\n",
       "      <td>LN-</td>\n",
       "      <td>PgR+</td>\n",
       "      <td>12.0</td>\n",
       "      <td>X9B52</td>\n",
       "      <td>X9B52</td>\n",
       "      <td>WT-like</td>\n",
       "      <td>p53-</td>\n",
       "      <td>X9B52</td>\n",
       "    </tr>\n",
       "  </tbody>\n",
       "</table>\n",
       "<p>251 rows × 15 columns</p>\n",
       "</div>"
      ],
      "text/plain": [
       "    sampleID  AgeAtDiagnosis DLDAerror              DSS  DSS.time ERstatus  \\\n",
       "0    X100B08              68        No  AliveOrCensored      12.0      ER+   \n",
       "1    X101B88              40        No  AliveOrCensored      12.0      ER-   \n",
       "2    X102B06              51        No  AliveOrCensored      12.0      ER+   \n",
       "3    X103B41              52       Yes              NaN       NaN      ER-   \n",
       "4    X104B91              80       Yes  AliveOrCensored       4.0      ER+   \n",
       "..       ...             ...       ...              ...       ...      ...   \n",
       "246   X90A63              76       Yes  AliveOrCensored       3.0      ER+   \n",
       "247   X94A16              73        No              NaN       NaN      ER+   \n",
       "248   X96A21              63        No  DeathFromCancer       0.0      ER+   \n",
       "249   X99A50              82       Yes  AliveOrCensored      11.0      ER+   \n",
       "250    X9B52              71        No  AliveOrCensored      11.0      ER+   \n",
       "\n",
       "    EistonHistologicGrade LymphNodeStatus PgRstatus  TumorSize _INTEGRATION  \\\n",
       "0                      G1             LN-      PgR-        9.0      X100B08   \n",
       "1                      G3             LN-      PgR-       12.0      X101B88   \n",
       "2                      G3             LN-      PgR+       26.0      X102B06   \n",
       "3                      G3             LN+      PgR-       22.0      X103B41   \n",
       "4                      G3             NaN      PgR+       24.0      X104B91   \n",
       "..                    ...             ...       ...        ...          ...   \n",
       "246                    G3             LN-      PgR-       26.0       X90A63   \n",
       "247                    G2             LN-      PgR+        6.0       X94A16   \n",
       "248                    G2             LN+      PgR+       38.0       X96A21   \n",
       "249                    G1             LN-      PgR+       19.0       X99A50   \n",
       "250                    G2             LN-      PgR+       12.0        X9B52   \n",
       "\n",
       "    _PATIENT p53DLDAclassResult p53mutant _GENOMIC_ID_miller2005  \n",
       "0    X100B08            WT-like      p53-                X100B08  \n",
       "1    X101B88            MT-like      p53+                X101B88  \n",
       "2    X102B06            MT-like      p53+                X102B06  \n",
       "3    X103B41            MT-like      p53-                X103B41  \n",
       "4    X104B91            WT-like      p53+                X104B91  \n",
       "..       ...                ...       ...                    ...  \n",
       "246   X90A63            MT-like      p53-                 X90A63  \n",
       "247   X94A16            WT-like      p53-                 X94A16  \n",
       "248   X96A21            WT-like      p53-                 X96A21  \n",
       "249   X99A50            WT-like      p53+                 X99A50  \n",
       "250    X9B52            WT-like      p53-                  X9B52  \n",
       "\n",
       "[251 rows x 15 columns]"
      ]
     },
     "execution_count": 5,
     "metadata": {},
     "output_type": "execute_result"
    }
   ],
   "source": [
    "pheno_df"
   ]
  },
  {
   "cell_type": "code",
   "execution_count": 6,
   "id": "107246cf",
   "metadata": {
    "ExecuteTime": {
     "end_time": "2022-03-10T01:47:00.621086Z",
     "start_time": "2022-03-10T01:47:00.608083Z"
    }
   },
   "outputs": [
    {
     "data": {
      "text/plain": [
       "True"
      ]
     },
     "execution_count": 6,
     "metadata": {},
     "output_type": "execute_result"
    }
   ],
   "source": [
    "# Check the equality of sampleID and some other columns \n",
    "pheno_df['sampleID'].equals(\n",
    "    pheno_df['_INTEGRATION']) and pheno_df['_GENOMIC_ID_miller2005'].equals(\n",
    "        pheno_df['_PATIENT']) and pheno_df['sampleID'].equals(\n",
    "            pheno_df['_PATIENT'])"
   ]
  },
  {
   "cell_type": "code",
   "execution_count": 7,
   "id": "fb730065",
   "metadata": {
    "ExecuteTime": {
     "end_time": "2022-03-10T01:47:00.651962Z",
     "start_time": "2022-03-10T01:47:00.623042Z"
    }
   },
   "outputs": [
    {
     "data": {
      "text/html": [
       "<div>\n",
       "<style scoped>\n",
       "    .dataframe tbody tr th:only-of-type {\n",
       "        vertical-align: middle;\n",
       "    }\n",
       "\n",
       "    .dataframe tbody tr th {\n",
       "        vertical-align: top;\n",
       "    }\n",
       "\n",
       "    .dataframe thead th {\n",
       "        text-align: right;\n",
       "    }\n",
       "</style>\n",
       "<table border=\"1\" class=\"dataframe\">\n",
       "  <thead>\n",
       "    <tr style=\"text-align: right;\">\n",
       "      <th></th>\n",
       "      <th>sampleID</th>\n",
       "      <th>AgeAtDiagnosis</th>\n",
       "      <th>DLDAerror</th>\n",
       "      <th>DSS</th>\n",
       "      <th>DSS.time</th>\n",
       "      <th>ERstatus</th>\n",
       "      <th>EistonHistologicGrade</th>\n",
       "      <th>LymphNodeStatus</th>\n",
       "      <th>PgRstatus</th>\n",
       "      <th>TumorSize</th>\n",
       "      <th>p53DLDAclassResult</th>\n",
       "      <th>p53mutant</th>\n",
       "    </tr>\n",
       "  </thead>\n",
       "  <tbody>\n",
       "    <tr>\n",
       "      <th>0</th>\n",
       "      <td>X100B08</td>\n",
       "      <td>68</td>\n",
       "      <td>No</td>\n",
       "      <td>AliveOrCensored</td>\n",
       "      <td>12.0</td>\n",
       "      <td>ER+</td>\n",
       "      <td>G1</td>\n",
       "      <td>LN-</td>\n",
       "      <td>PgR-</td>\n",
       "      <td>9.0</td>\n",
       "      <td>WT-like</td>\n",
       "      <td>p53-</td>\n",
       "    </tr>\n",
       "    <tr>\n",
       "      <th>1</th>\n",
       "      <td>X101B88</td>\n",
       "      <td>40</td>\n",
       "      <td>No</td>\n",
       "      <td>AliveOrCensored</td>\n",
       "      <td>12.0</td>\n",
       "      <td>ER-</td>\n",
       "      <td>G3</td>\n",
       "      <td>LN-</td>\n",
       "      <td>PgR-</td>\n",
       "      <td>12.0</td>\n",
       "      <td>MT-like</td>\n",
       "      <td>p53+</td>\n",
       "    </tr>\n",
       "    <tr>\n",
       "      <th>2</th>\n",
       "      <td>X102B06</td>\n",
       "      <td>51</td>\n",
       "      <td>No</td>\n",
       "      <td>AliveOrCensored</td>\n",
       "      <td>12.0</td>\n",
       "      <td>ER+</td>\n",
       "      <td>G3</td>\n",
       "      <td>LN-</td>\n",
       "      <td>PgR+</td>\n",
       "      <td>26.0</td>\n",
       "      <td>MT-like</td>\n",
       "      <td>p53+</td>\n",
       "    </tr>\n",
       "    <tr>\n",
       "      <th>3</th>\n",
       "      <td>X103B41</td>\n",
       "      <td>52</td>\n",
       "      <td>Yes</td>\n",
       "      <td>NaN</td>\n",
       "      <td>NaN</td>\n",
       "      <td>ER-</td>\n",
       "      <td>G3</td>\n",
       "      <td>LN+</td>\n",
       "      <td>PgR-</td>\n",
       "      <td>22.0</td>\n",
       "      <td>MT-like</td>\n",
       "      <td>p53-</td>\n",
       "    </tr>\n",
       "    <tr>\n",
       "      <th>4</th>\n",
       "      <td>X104B91</td>\n",
       "      <td>80</td>\n",
       "      <td>Yes</td>\n",
       "      <td>AliveOrCensored</td>\n",
       "      <td>4.0</td>\n",
       "      <td>ER+</td>\n",
       "      <td>G3</td>\n",
       "      <td>NaN</td>\n",
       "      <td>PgR+</td>\n",
       "      <td>24.0</td>\n",
       "      <td>WT-like</td>\n",
       "      <td>p53+</td>\n",
       "    </tr>\n",
       "    <tr>\n",
       "      <th>...</th>\n",
       "      <td>...</td>\n",
       "      <td>...</td>\n",
       "      <td>...</td>\n",
       "      <td>...</td>\n",
       "      <td>...</td>\n",
       "      <td>...</td>\n",
       "      <td>...</td>\n",
       "      <td>...</td>\n",
       "      <td>...</td>\n",
       "      <td>...</td>\n",
       "      <td>...</td>\n",
       "      <td>...</td>\n",
       "    </tr>\n",
       "    <tr>\n",
       "      <th>246</th>\n",
       "      <td>X90A63</td>\n",
       "      <td>76</td>\n",
       "      <td>Yes</td>\n",
       "      <td>AliveOrCensored</td>\n",
       "      <td>3.0</td>\n",
       "      <td>ER+</td>\n",
       "      <td>G3</td>\n",
       "      <td>LN-</td>\n",
       "      <td>PgR-</td>\n",
       "      <td>26.0</td>\n",
       "      <td>MT-like</td>\n",
       "      <td>p53-</td>\n",
       "    </tr>\n",
       "    <tr>\n",
       "      <th>247</th>\n",
       "      <td>X94A16</td>\n",
       "      <td>73</td>\n",
       "      <td>No</td>\n",
       "      <td>NaN</td>\n",
       "      <td>NaN</td>\n",
       "      <td>ER+</td>\n",
       "      <td>G2</td>\n",
       "      <td>LN-</td>\n",
       "      <td>PgR+</td>\n",
       "      <td>6.0</td>\n",
       "      <td>WT-like</td>\n",
       "      <td>p53-</td>\n",
       "    </tr>\n",
       "    <tr>\n",
       "      <th>248</th>\n",
       "      <td>X96A21</td>\n",
       "      <td>63</td>\n",
       "      <td>No</td>\n",
       "      <td>DeathFromCancer</td>\n",
       "      <td>0.0</td>\n",
       "      <td>ER+</td>\n",
       "      <td>G2</td>\n",
       "      <td>LN+</td>\n",
       "      <td>PgR+</td>\n",
       "      <td>38.0</td>\n",
       "      <td>WT-like</td>\n",
       "      <td>p53-</td>\n",
       "    </tr>\n",
       "    <tr>\n",
       "      <th>249</th>\n",
       "      <td>X99A50</td>\n",
       "      <td>82</td>\n",
       "      <td>Yes</td>\n",
       "      <td>AliveOrCensored</td>\n",
       "      <td>11.0</td>\n",
       "      <td>ER+</td>\n",
       "      <td>G1</td>\n",
       "      <td>LN-</td>\n",
       "      <td>PgR+</td>\n",
       "      <td>19.0</td>\n",
       "      <td>WT-like</td>\n",
       "      <td>p53+</td>\n",
       "    </tr>\n",
       "    <tr>\n",
       "      <th>250</th>\n",
       "      <td>X9B52</td>\n",
       "      <td>71</td>\n",
       "      <td>No</td>\n",
       "      <td>AliveOrCensored</td>\n",
       "      <td>11.0</td>\n",
       "      <td>ER+</td>\n",
       "      <td>G2</td>\n",
       "      <td>LN-</td>\n",
       "      <td>PgR+</td>\n",
       "      <td>12.0</td>\n",
       "      <td>WT-like</td>\n",
       "      <td>p53-</td>\n",
       "    </tr>\n",
       "  </tbody>\n",
       "</table>\n",
       "<p>251 rows × 12 columns</p>\n",
       "</div>"
      ],
      "text/plain": [
       "    sampleID  AgeAtDiagnosis DLDAerror              DSS  DSS.time ERstatus  \\\n",
       "0    X100B08              68        No  AliveOrCensored      12.0      ER+   \n",
       "1    X101B88              40        No  AliveOrCensored      12.0      ER-   \n",
       "2    X102B06              51        No  AliveOrCensored      12.0      ER+   \n",
       "3    X103B41              52       Yes              NaN       NaN      ER-   \n",
       "4    X104B91              80       Yes  AliveOrCensored       4.0      ER+   \n",
       "..       ...             ...       ...              ...       ...      ...   \n",
       "246   X90A63              76       Yes  AliveOrCensored       3.0      ER+   \n",
       "247   X94A16              73        No              NaN       NaN      ER+   \n",
       "248   X96A21              63        No  DeathFromCancer       0.0      ER+   \n",
       "249   X99A50              82       Yes  AliveOrCensored      11.0      ER+   \n",
       "250    X9B52              71        No  AliveOrCensored      11.0      ER+   \n",
       "\n",
       "    EistonHistologicGrade LymphNodeStatus PgRstatus  TumorSize  \\\n",
       "0                      G1             LN-      PgR-        9.0   \n",
       "1                      G3             LN-      PgR-       12.0   \n",
       "2                      G3             LN-      PgR+       26.0   \n",
       "3                      G3             LN+      PgR-       22.0   \n",
       "4                      G3             NaN      PgR+       24.0   \n",
       "..                    ...             ...       ...        ...   \n",
       "246                    G3             LN-      PgR-       26.0   \n",
       "247                    G2             LN-      PgR+        6.0   \n",
       "248                    G2             LN+      PgR+       38.0   \n",
       "249                    G1             LN-      PgR+       19.0   \n",
       "250                    G2             LN-      PgR+       12.0   \n",
       "\n",
       "    p53DLDAclassResult p53mutant  \n",
       "0              WT-like      p53-  \n",
       "1              MT-like      p53+  \n",
       "2              MT-like      p53+  \n",
       "3              MT-like      p53-  \n",
       "4              WT-like      p53+  \n",
       "..                 ...       ...  \n",
       "246            MT-like      p53-  \n",
       "247            WT-like      p53-  \n",
       "248            WT-like      p53-  \n",
       "249            WT-like      p53+  \n",
       "250            WT-like      p53-  \n",
       "\n",
       "[251 rows x 12 columns]"
      ]
     },
     "execution_count": 7,
     "metadata": {},
     "output_type": "execute_result"
    }
   ],
   "source": [
    "# Dropping columns which are equal to sampleID column\n",
    "pheno_df.drop(['_INTEGRATION', '_PATIENT', '_GENOMIC_ID_miller2005'], axis=1, inplace=True)\n",
    "pheno_df"
   ]
  },
  {
   "cell_type": "code",
   "execution_count": 8,
   "id": "43fdc994",
   "metadata": {
    "ExecuteTime": {
     "end_time": "2022-03-10T01:47:00.667248Z",
     "start_time": "2022-03-10T01:47:00.653959Z"
    }
   },
   "outputs": [
    {
     "data": {
      "text/plain": [
       "(251, 12)"
      ]
     },
     "execution_count": 8,
     "metadata": {},
     "output_type": "execute_result"
    }
   ],
   "source": [
    "pheno_df.shape"
   ]
  },
  {
   "cell_type": "code",
   "execution_count": 9,
   "id": "2bfee38d",
   "metadata": {
    "ExecuteTime": {
     "end_time": "2022-03-10T01:47:00.682880Z",
     "start_time": "2022-03-10T01:47:00.668922Z"
    }
   },
   "outputs": [
    {
     "name": "stdout",
     "output_type": "stream",
     "text": [
      "<class 'pandas.core.frame.DataFrame'>\n",
      "RangeIndex: 251 entries, 0 to 250\n",
      "Data columns (total 12 columns):\n",
      " #   Column                 Non-Null Count  Dtype  \n",
      "---  ------                 --------------  -----  \n",
      " 0   sampleID               251 non-null    object \n",
      " 1   AgeAtDiagnosis         251 non-null    int64  \n",
      " 2   DLDAerror              251 non-null    object \n",
      " 3   DSS                    236 non-null    object \n",
      " 4   DSS.time               236 non-null    float64\n",
      " 5   ERstatus               247 non-null    object \n",
      " 6   EistonHistologicGrade  249 non-null    object \n",
      " 7   LymphNodeStatus        242 non-null    object \n",
      " 8   PgRstatus              251 non-null    object \n",
      " 9   TumorSize              251 non-null    float64\n",
      " 10  p53DLDAclassResult     251 non-null    object \n",
      " 11  p53mutant              251 non-null    object \n",
      "dtypes: float64(2), int64(1), object(9)\n",
      "memory usage: 23.7+ KB\n"
     ]
    }
   ],
   "source": [
    "pheno_df.info()"
   ]
  },
  {
   "cell_type": "code",
   "execution_count": 10,
   "id": "6809b372",
   "metadata": {
    "ExecuteTime": {
     "end_time": "2022-03-10T01:47:00.698875Z",
     "start_time": "2022-03-10T01:47:00.686870Z"
    }
   },
   "outputs": [
    {
     "data": {
      "text/plain": [
       "Index(['DSS', 'DSS.time', 'ERstatus', 'EistonHistologicGrade',\n",
       "       'LymphNodeStatus'],\n",
       "      dtype='object')"
      ]
     },
     "execution_count": 10,
     "metadata": {},
     "output_type": "execute_result"
    }
   ],
   "source": [
    "# Columns which have missing values\n",
    "pheno_df.columns[pheno_df.isna().any()]"
   ]
  },
  {
   "cell_type": "code",
   "execution_count": 11,
   "id": "0b713d5d",
   "metadata": {
    "ExecuteTime": {
     "end_time": "2022-03-10T01:47:00.714796Z",
     "start_time": "2022-03-10T01:47:00.700835Z"
    }
   },
   "outputs": [
    {
     "name": "stdout",
     "output_type": "stream",
     "text": [
      "DLDAerror: ['No' 'Yes']\n",
      "DSS: ['AliveOrCensored' nan 'DeathFromCancer']\n",
      "ERstatus: ['ER+' 'ER-' nan]\n",
      "EistonHistologicGrade: ['G1' 'G3' 'G2' nan]\n",
      "LymphNodeStatus: ['LN-' 'LN+' nan]\n",
      "PgRstatus: ['PgR-' 'PgR+']\n",
      "p53DLDAclassResult: ['WT-like' 'MT-like']\n",
      "p53mutant: ['p53-' 'p53+']\n"
     ]
    }
   ],
   "source": [
    "# Check unique values of categorical data\n",
    "for col in pheno_df.columns[np.r_[2:4, 5:9, 10: 12]]:\n",
    "    print(f'{col}: {pheno_df[col].unique()}')"
   ]
  },
  {
   "cell_type": "code",
   "execution_count": 12,
   "id": "26a3bcba",
   "metadata": {
    "ExecuteTime": {
     "end_time": "2022-03-10T01:47:00.730752Z",
     "start_time": "2022-03-10T01:47:00.716791Z"
    }
   },
   "outputs": [],
   "source": [
    "cleanup = {\n",
    "    'DLDAerror': {\n",
    "        'No': 0,\n",
    "        'Yes': 1\n",
    "    },\n",
    "    'DSS': {\n",
    "        'DeathFromCancer': 0,\n",
    "        'AliveOrCensored': 1\n",
    "    },\n",
    "    'ERstatus': {\n",
    "        'ER-': 0,\n",
    "        'ER+': 1\n",
    "    },\n",
    "    'LymphNodeStatus': {\n",
    "        'LN-': 0,\n",
    "        'LN+': 1\n",
    "    },\n",
    "    'PgRstatus': {\n",
    "        'PgR-': 0,\n",
    "        'PgR+': 1\n",
    "    },\n",
    "    'p53DLDAclassResult': {\n",
    "        'WT-like': 0,\n",
    "        'MT-like': 1\n",
    "    },\n",
    "    'p53mutant': {\n",
    "        'p53-': 0,\n",
    "        'p53+': 1\n",
    "    },\n",
    "    'EistonHistologicGrade': {\n",
    "        'G1': 0,\n",
    "        'G2': 1,\n",
    "        'G3': 2\n",
    "    }\n",
    "}\n",
    "pheno_df.replace(cleanup, inplace=True)"
   ]
  },
  {
   "cell_type": "code",
   "execution_count": 13,
   "id": "9289ae86",
   "metadata": {
    "ExecuteTime": {
     "end_time": "2022-03-10T01:47:00.761369Z",
     "start_time": "2022-03-10T01:47:00.732749Z"
    }
   },
   "outputs": [
    {
     "data": {
      "text/html": [
       "<div>\n",
       "<style scoped>\n",
       "    .dataframe tbody tr th:only-of-type {\n",
       "        vertical-align: middle;\n",
       "    }\n",
       "\n",
       "    .dataframe tbody tr th {\n",
       "        vertical-align: top;\n",
       "    }\n",
       "\n",
       "    .dataframe thead th {\n",
       "        text-align: right;\n",
       "    }\n",
       "</style>\n",
       "<table border=\"1\" class=\"dataframe\">\n",
       "  <thead>\n",
       "    <tr style=\"text-align: right;\">\n",
       "      <th></th>\n",
       "      <th>sampleID</th>\n",
       "      <th>AgeAtDiagnosis</th>\n",
       "      <th>DLDAerror</th>\n",
       "      <th>DSS</th>\n",
       "      <th>DSS.time</th>\n",
       "      <th>ERstatus</th>\n",
       "      <th>EistonHistologicGrade</th>\n",
       "      <th>LymphNodeStatus</th>\n",
       "      <th>PgRstatus</th>\n",
       "      <th>TumorSize</th>\n",
       "      <th>p53DLDAclassResult</th>\n",
       "      <th>p53mutant</th>\n",
       "    </tr>\n",
       "  </thead>\n",
       "  <tbody>\n",
       "    <tr>\n",
       "      <th>0</th>\n",
       "      <td>X100B08</td>\n",
       "      <td>68</td>\n",
       "      <td>0</td>\n",
       "      <td>1.0</td>\n",
       "      <td>12.0</td>\n",
       "      <td>1.0</td>\n",
       "      <td>0.0</td>\n",
       "      <td>0.0</td>\n",
       "      <td>0</td>\n",
       "      <td>9.0</td>\n",
       "      <td>0</td>\n",
       "      <td>0</td>\n",
       "    </tr>\n",
       "    <tr>\n",
       "      <th>1</th>\n",
       "      <td>X101B88</td>\n",
       "      <td>40</td>\n",
       "      <td>0</td>\n",
       "      <td>1.0</td>\n",
       "      <td>12.0</td>\n",
       "      <td>0.0</td>\n",
       "      <td>2.0</td>\n",
       "      <td>0.0</td>\n",
       "      <td>0</td>\n",
       "      <td>12.0</td>\n",
       "      <td>1</td>\n",
       "      <td>1</td>\n",
       "    </tr>\n",
       "    <tr>\n",
       "      <th>2</th>\n",
       "      <td>X102B06</td>\n",
       "      <td>51</td>\n",
       "      <td>0</td>\n",
       "      <td>1.0</td>\n",
       "      <td>12.0</td>\n",
       "      <td>1.0</td>\n",
       "      <td>2.0</td>\n",
       "      <td>0.0</td>\n",
       "      <td>1</td>\n",
       "      <td>26.0</td>\n",
       "      <td>1</td>\n",
       "      <td>1</td>\n",
       "    </tr>\n",
       "    <tr>\n",
       "      <th>3</th>\n",
       "      <td>X103B41</td>\n",
       "      <td>52</td>\n",
       "      <td>1</td>\n",
       "      <td>NaN</td>\n",
       "      <td>NaN</td>\n",
       "      <td>0.0</td>\n",
       "      <td>2.0</td>\n",
       "      <td>1.0</td>\n",
       "      <td>0</td>\n",
       "      <td>22.0</td>\n",
       "      <td>1</td>\n",
       "      <td>0</td>\n",
       "    </tr>\n",
       "    <tr>\n",
       "      <th>4</th>\n",
       "      <td>X104B91</td>\n",
       "      <td>80</td>\n",
       "      <td>1</td>\n",
       "      <td>1.0</td>\n",
       "      <td>4.0</td>\n",
       "      <td>1.0</td>\n",
       "      <td>2.0</td>\n",
       "      <td>NaN</td>\n",
       "      <td>1</td>\n",
       "      <td>24.0</td>\n",
       "      <td>0</td>\n",
       "      <td>1</td>\n",
       "    </tr>\n",
       "    <tr>\n",
       "      <th>...</th>\n",
       "      <td>...</td>\n",
       "      <td>...</td>\n",
       "      <td>...</td>\n",
       "      <td>...</td>\n",
       "      <td>...</td>\n",
       "      <td>...</td>\n",
       "      <td>...</td>\n",
       "      <td>...</td>\n",
       "      <td>...</td>\n",
       "      <td>...</td>\n",
       "      <td>...</td>\n",
       "      <td>...</td>\n",
       "    </tr>\n",
       "    <tr>\n",
       "      <th>246</th>\n",
       "      <td>X90A63</td>\n",
       "      <td>76</td>\n",
       "      <td>1</td>\n",
       "      <td>1.0</td>\n",
       "      <td>3.0</td>\n",
       "      <td>1.0</td>\n",
       "      <td>2.0</td>\n",
       "      <td>0.0</td>\n",
       "      <td>0</td>\n",
       "      <td>26.0</td>\n",
       "      <td>1</td>\n",
       "      <td>0</td>\n",
       "    </tr>\n",
       "    <tr>\n",
       "      <th>247</th>\n",
       "      <td>X94A16</td>\n",
       "      <td>73</td>\n",
       "      <td>0</td>\n",
       "      <td>NaN</td>\n",
       "      <td>NaN</td>\n",
       "      <td>1.0</td>\n",
       "      <td>1.0</td>\n",
       "      <td>0.0</td>\n",
       "      <td>1</td>\n",
       "      <td>6.0</td>\n",
       "      <td>0</td>\n",
       "      <td>0</td>\n",
       "    </tr>\n",
       "    <tr>\n",
       "      <th>248</th>\n",
       "      <td>X96A21</td>\n",
       "      <td>63</td>\n",
       "      <td>0</td>\n",
       "      <td>0.0</td>\n",
       "      <td>0.0</td>\n",
       "      <td>1.0</td>\n",
       "      <td>1.0</td>\n",
       "      <td>1.0</td>\n",
       "      <td>1</td>\n",
       "      <td>38.0</td>\n",
       "      <td>0</td>\n",
       "      <td>0</td>\n",
       "    </tr>\n",
       "    <tr>\n",
       "      <th>249</th>\n",
       "      <td>X99A50</td>\n",
       "      <td>82</td>\n",
       "      <td>1</td>\n",
       "      <td>1.0</td>\n",
       "      <td>11.0</td>\n",
       "      <td>1.0</td>\n",
       "      <td>0.0</td>\n",
       "      <td>0.0</td>\n",
       "      <td>1</td>\n",
       "      <td>19.0</td>\n",
       "      <td>0</td>\n",
       "      <td>1</td>\n",
       "    </tr>\n",
       "    <tr>\n",
       "      <th>250</th>\n",
       "      <td>X9B52</td>\n",
       "      <td>71</td>\n",
       "      <td>0</td>\n",
       "      <td>1.0</td>\n",
       "      <td>11.0</td>\n",
       "      <td>1.0</td>\n",
       "      <td>1.0</td>\n",
       "      <td>0.0</td>\n",
       "      <td>1</td>\n",
       "      <td>12.0</td>\n",
       "      <td>0</td>\n",
       "      <td>0</td>\n",
       "    </tr>\n",
       "  </tbody>\n",
       "</table>\n",
       "<p>251 rows × 12 columns</p>\n",
       "</div>"
      ],
      "text/plain": [
       "    sampleID  AgeAtDiagnosis  DLDAerror  DSS  DSS.time  ERstatus  \\\n",
       "0    X100B08              68          0  1.0      12.0       1.0   \n",
       "1    X101B88              40          0  1.0      12.0       0.0   \n",
       "2    X102B06              51          0  1.0      12.0       1.0   \n",
       "3    X103B41              52          1  NaN       NaN       0.0   \n",
       "4    X104B91              80          1  1.0       4.0       1.0   \n",
       "..       ...             ...        ...  ...       ...       ...   \n",
       "246   X90A63              76          1  1.0       3.0       1.0   \n",
       "247   X94A16              73          0  NaN       NaN       1.0   \n",
       "248   X96A21              63          0  0.0       0.0       1.0   \n",
       "249   X99A50              82          1  1.0      11.0       1.0   \n",
       "250    X9B52              71          0  1.0      11.0       1.0   \n",
       "\n",
       "     EistonHistologicGrade  LymphNodeStatus  PgRstatus  TumorSize  \\\n",
       "0                      0.0              0.0          0        9.0   \n",
       "1                      2.0              0.0          0       12.0   \n",
       "2                      2.0              0.0          1       26.0   \n",
       "3                      2.0              1.0          0       22.0   \n",
       "4                      2.0              NaN          1       24.0   \n",
       "..                     ...              ...        ...        ...   \n",
       "246                    2.0              0.0          0       26.0   \n",
       "247                    1.0              0.0          1        6.0   \n",
       "248                    1.0              1.0          1       38.0   \n",
       "249                    0.0              0.0          1       19.0   \n",
       "250                    1.0              0.0          1       12.0   \n",
       "\n",
       "     p53DLDAclassResult  p53mutant  \n",
       "0                     0          0  \n",
       "1                     1          1  \n",
       "2                     1          1  \n",
       "3                     1          0  \n",
       "4                     0          1  \n",
       "..                  ...        ...  \n",
       "246                   1          0  \n",
       "247                   0          0  \n",
       "248                   0          0  \n",
       "249                   0          1  \n",
       "250                   0          0  \n",
       "\n",
       "[251 rows x 12 columns]"
      ]
     },
     "execution_count": 13,
     "metadata": {},
     "output_type": "execute_result"
    }
   ],
   "source": [
    "pheno_df"
   ]
  },
  {
   "cell_type": "code",
   "execution_count": 14,
   "id": "5c9bb76e",
   "metadata": {
    "ExecuteTime": {
     "end_time": "2022-03-10T01:47:00.793286Z",
     "start_time": "2022-03-10T01:47:00.763365Z"
    }
   },
   "outputs": [
    {
     "data": {
      "text/html": [
       "<div>\n",
       "<style scoped>\n",
       "    .dataframe tbody tr th:only-of-type {\n",
       "        vertical-align: middle;\n",
       "    }\n",
       "\n",
       "    .dataframe tbody tr th {\n",
       "        vertical-align: top;\n",
       "    }\n",
       "\n",
       "    .dataframe thead th {\n",
       "        text-align: right;\n",
       "    }\n",
       "</style>\n",
       "<table border=\"1\" class=\"dataframe\">\n",
       "  <thead>\n",
       "    <tr style=\"text-align: right;\">\n",
       "      <th></th>\n",
       "      <th>sampleID</th>\n",
       "      <th>AgeAtDiagnosis</th>\n",
       "      <th>DLDAerror</th>\n",
       "      <th>DSS</th>\n",
       "      <th>DSS.time</th>\n",
       "      <th>ERstatus</th>\n",
       "      <th>EistonHistologicGrade</th>\n",
       "      <th>LymphNodeStatus</th>\n",
       "      <th>PgRstatus</th>\n",
       "      <th>TumorSize</th>\n",
       "      <th>p53DLDAclassResult</th>\n",
       "      <th>p53mutant</th>\n",
       "    </tr>\n",
       "  </thead>\n",
       "  <tbody>\n",
       "    <tr>\n",
       "      <th>0</th>\n",
       "      <td>X100B08</td>\n",
       "      <td>68</td>\n",
       "      <td>0</td>\n",
       "      <td>1</td>\n",
       "      <td>12.0</td>\n",
       "      <td>1</td>\n",
       "      <td>0</td>\n",
       "      <td>0</td>\n",
       "      <td>0</td>\n",
       "      <td>9.0</td>\n",
       "      <td>0</td>\n",
       "      <td>0</td>\n",
       "    </tr>\n",
       "    <tr>\n",
       "      <th>1</th>\n",
       "      <td>X101B88</td>\n",
       "      <td>40</td>\n",
       "      <td>0</td>\n",
       "      <td>1</td>\n",
       "      <td>12.0</td>\n",
       "      <td>0</td>\n",
       "      <td>2</td>\n",
       "      <td>0</td>\n",
       "      <td>0</td>\n",
       "      <td>12.0</td>\n",
       "      <td>1</td>\n",
       "      <td>1</td>\n",
       "    </tr>\n",
       "    <tr>\n",
       "      <th>2</th>\n",
       "      <td>X102B06</td>\n",
       "      <td>51</td>\n",
       "      <td>0</td>\n",
       "      <td>1</td>\n",
       "      <td>12.0</td>\n",
       "      <td>1</td>\n",
       "      <td>2</td>\n",
       "      <td>0</td>\n",
       "      <td>1</td>\n",
       "      <td>26.0</td>\n",
       "      <td>1</td>\n",
       "      <td>1</td>\n",
       "    </tr>\n",
       "    <tr>\n",
       "      <th>5</th>\n",
       "      <td>X105B13</td>\n",
       "      <td>46</td>\n",
       "      <td>0</td>\n",
       "      <td>1</td>\n",
       "      <td>12.0</td>\n",
       "      <td>1</td>\n",
       "      <td>0</td>\n",
       "      <td>0</td>\n",
       "      <td>1</td>\n",
       "      <td>13.0</td>\n",
       "      <td>0</td>\n",
       "      <td>0</td>\n",
       "    </tr>\n",
       "    <tr>\n",
       "      <th>6</th>\n",
       "      <td>X106B55</td>\n",
       "      <td>37</td>\n",
       "      <td>0</td>\n",
       "      <td>0</td>\n",
       "      <td>7.0</td>\n",
       "      <td>1</td>\n",
       "      <td>0</td>\n",
       "      <td>0</td>\n",
       "      <td>1</td>\n",
       "      <td>60.0</td>\n",
       "      <td>0</td>\n",
       "      <td>0</td>\n",
       "    </tr>\n",
       "  </tbody>\n",
       "</table>\n",
       "</div>"
      ],
      "text/plain": [
       "  sampleID  AgeAtDiagnosis  DLDAerror  DSS  DSS.time  ERstatus  \\\n",
       "0  X100B08              68          0    1      12.0         1   \n",
       "1  X101B88              40          0    1      12.0         0   \n",
       "2  X102B06              51          0    1      12.0         1   \n",
       "5  X105B13              46          0    1      12.0         1   \n",
       "6  X106B55              37          0    0       7.0         1   \n",
       "\n",
       "   EistonHistologicGrade  LymphNodeStatus  PgRstatus  TumorSize  \\\n",
       "0                      0                0          0        9.0   \n",
       "1                      2                0          0       12.0   \n",
       "2                      2                0          1       26.0   \n",
       "5                      0                0          1       13.0   \n",
       "6                      0                0          1       60.0   \n",
       "\n",
       "   p53DLDAclassResult  p53mutant  \n",
       "0                   0          0  \n",
       "1                   1          1  \n",
       "2                   1          1  \n",
       "5                   0          0  \n",
       "6                   0          0  "
      ]
     },
     "execution_count": 14,
     "metadata": {},
     "output_type": "execute_result"
    }
   ],
   "source": [
    "df_dropped = pheno_df.copy(); df_dropped.dropna(inplace=True)\n",
    "# Convert ordinal columns data type to Int64\n",
    "df_dropped[['DSS', 'ERstatus', 'EistonHistologicGrade',\n",
    "          'LymphNodeStatus']] = df_dropped[[\n",
    "              'DSS', 'ERstatus', 'EistonHistologicGrade', 'LymphNodeStatus'\n",
    "          ]].astype('int64')\n",
    "df_dropped.head()"
   ]
  },
  {
   "cell_type": "markdown",
   "id": "96a47922",
   "metadata": {},
   "source": [
    "## Supervised"
   ]
  },
  {
   "cell_type": "markdown",
   "id": "191d6ff0",
   "metadata": {},
   "source": [
    "### Regression"
   ]
  },
  {
   "cell_type": "code",
   "execution_count": 15,
   "id": "d95d2a84",
   "metadata": {
    "ExecuteTime": {
     "end_time": "2022-03-10T01:47:01.094915Z",
     "start_time": "2022-03-10T01:47:00.795318Z"
    }
   },
   "outputs": [
    {
     "data": {
      "image/png": "[encoded data removed]",
      "text/plain": [
       "<Figure size 432x288 with 2 Axes>"
      ]
     },
     "metadata": {
      "needs_background": "light"
     },
     "output_type": "display_data"
    }
   ],
   "source": [
    "# Correlations among the features\n",
    "sns.heatmap(df_dropped.corr(), cmap='coolwarm')\n",
    "plt.show()"
   ]
  },
  {
   "cell_type": "code",
   "execution_count": 16,
   "id": "f77d7498",
   "metadata": {
    "ExecuteTime": {
     "end_time": "2022-03-10T01:47:01.110873Z",
     "start_time": "2022-03-10T01:47:01.098903Z"
    }
   },
   "outputs": [],
   "source": [
    "# Train-test split\n",
    "def data_split(dataframe: pd.DataFrame = df_dropped,\n",
    "               neg_X_columns: List[str] = ['TumorSize'],\n",
    "               y_column: str = 'TumorSize',\n",
    "               test_size: float = 0.30):\n",
    "    '''Split data as train and test according to the flags\n",
    "\n",
    "    Parameters\n",
    "    ----------\n",
    "    neg_X_columns: List[str]\n",
    "        List of columns to exclude for data\n",
    "        \n",
    "    y_column: str\n",
    "        Target/Label column\n",
    "\n",
    "    test_size: float\n",
    "        Test size\n",
    "\n",
    "    Returns [1]\n",
    "    -------\n",
    "    splitting : list, length=2 * len(arrays)\n",
    "        List containing train-test split of inputs.\n",
    "    \n",
    "    [1] https://github.com/scikit-learn/scikit-learn/blob/main/sklearn/model_selection/_split.py\n",
    "    '''\n",
    "\n",
    "    X_train, X_test, y_train, y_test = train_test_split(\n",
    "        dataframe[dataframe.columns.difference(neg_X_columns)],\n",
    "        dataframe.loc[:, y_column],\n",
    "        test_size=test_size,\n",
    "        random_state=42)\n",
    "    return (X_train, X_test, y_train, y_test)"
   ]
  },
  {
   "cell_type": "code",
   "execution_count": 17,
   "id": "f2dd99bf",
   "metadata": {
    "ExecuteTime": {
     "end_time": "2022-03-10T01:47:01.126364Z",
     "start_time": "2022-03-10T01:47:01.112866Z"
    }
   },
   "outputs": [],
   "source": [
    "# Dummy regressor to set a baseline to compare against the other more complex regressors\n",
    "# in other words to check whether the regression models perform better than simple rules\n",
    "from sklearn.dummy import DummyRegressor\n",
    "\n",
    "\n",
    "def dummyreg(X_train, X_test, y_train, y_test, strategy=\"mean\"):\n",
    "    dummy_regr = DummyRegressor(strategy=strategy)\n",
    "    dummy_regr.fit(X_train, y_train)\n",
    "    print(dummy_regr.score(X_test, y_test))"
   ]
  },
  {
   "cell_type": "code",
   "execution_count": 18,
   "id": "c60db645",
   "metadata": {
    "ExecuteTime": {
     "end_time": "2022-03-10T01:47:01.141898Z",
     "start_time": "2022-03-10T01:47:01.128360Z"
    }
   },
   "outputs": [
    {
     "name": "stdout",
     "output_type": "stream",
     "text": [
      "-0.05473436845722168\n"
     ]
    }
   ],
   "source": [
    "dummyreg(*data_split(neg_X_columns=['TumorSize', 'sampleID']))"
   ]
  },
  {
   "cell_type": "markdown",
   "id": "39bdffe2",
   "metadata": {},
   "source": [
    "### Classification"
   ]
  },
  {
   "cell_type": "code",
   "execution_count": 19,
   "id": "dfdedd50",
   "metadata": {
    "ExecuteTime": {
     "end_time": "2022-03-10T01:47:01.157453Z",
     "start_time": "2022-03-10T01:47:01.143898Z"
    }
   },
   "outputs": [],
   "source": [
    "# Dummy classifier to set a baseline to compare against the other more complex classifiers\n",
    "# in other words To check whether the ML models perform better than randomly guessing the labels\n",
    "from sklearn.dummy import DummyClassifier\n",
    "\n",
    "\n",
    "def dummyclf(X_train, X_test, y_train, y_test, strategy=\"prior\"):\n",
    "    dummy_clf = DummyClassifier(strategy=strategy)\n",
    "    dummy_clf.fit(X_train, y_train)\n",
    "    # Classification report of the dummy classifier\n",
    "    print((classification_report(y_test,\n",
    "                                 dummy_clf.predict(X_test),\n",
    "                                 zero_division=0)))\n",
    "    # Plotting Confusion matrix of the dummy classifier\n",
    "    plot_confusion_matrix(dummy_clf, X_test, y_test)\n",
    "    plt.show()"
   ]
  },
  {
   "cell_type": "code",
   "execution_count": 20,
   "id": "382b5eed",
   "metadata": {
    "ExecuteTime": {
     "end_time": "2022-03-10T01:47:01.316572Z",
     "start_time": "2022-03-10T01:47:01.161447Z"
    }
   },
   "outputs": [
    {
     "name": "stdout",
     "output_type": "stream",
     "text": [
      "              precision    recall  f1-score   support\n",
      "\n",
      "           0       0.00      0.00      0.00        13\n",
      "           1       0.57      1.00      0.72        38\n",
      "           2       0.00      0.00      0.00        16\n",
      "\n",
      "    accuracy                           0.57        67\n",
      "   macro avg       0.19      0.33      0.24        67\n",
      "weighted avg       0.32      0.57      0.41        67\n",
      "\n"
     ]
    },
    {
     "data": {
      "image/png": "[encoded data removed]",
      "text/plain": [
       "<Figure size 432x288 with 2 Axes>"
      ]
     },
     "metadata": {
      "needs_background": "light"
     },
     "output_type": "display_data"
    }
   ],
   "source": [
    "dummyclf(*data_split(neg_X_columns=['EistonHistologicGrade', 'sampleID'],\n",
    "                     y_column='EistonHistologicGrade'))"
   ]
  },
  {
   "cell_type": "code",
   "execution_count": 21,
   "id": "27c88031",
   "metadata": {
    "ExecuteTime": {
     "end_time": "2022-03-10T01:47:01.474760Z",
     "start_time": "2022-03-10T01:47:01.318637Z"
    }
   },
   "outputs": [
    {
     "name": "stdout",
     "output_type": "stream",
     "text": [
      "              precision    recall  f1-score   support\n",
      "\n",
      "           0       0.27      0.46      0.34        13\n",
      "           1       0.61      0.50      0.55        38\n",
      "           2       0.14      0.12      0.13        16\n",
      "\n",
      "    accuracy                           0.40        67\n",
      "   macro avg       0.34      0.36      0.34        67\n",
      "weighted avg       0.43      0.40      0.41        67\n",
      "\n"
     ]
    },
    {
     "data": {
      "image/png": "[encoded data removed]",
      "text/plain": [
       "<Figure size 432x288 with 2 Axes>"
      ]
     },
     "metadata": {
      "needs_background": "light"
     },
     "output_type": "display_data"
    }
   ],
   "source": [
    "# Trying stratified strategy\n",
    "dummyclf(*data_split(neg_X_columns=['EistonHistologicGrade', 'sampleID'],\n",
    "                     y_column='EistonHistologicGrade'),\n",
    "         strategy=\"stratified\")"
   ]
  },
  {
   "cell_type": "code",
   "execution_count": 22,
   "id": "c18e090e",
   "metadata": {
    "ExecuteTime": {
     "end_time": "2022-03-10T01:47:01.537969Z",
     "start_time": "2022-03-10T01:47:01.476717Z"
    }
   },
   "outputs": [],
   "source": [
    "from sklearn.tree import DecisionTreeClassifier\n",
    "\n",
    "\n",
    "def dtc_grid(feat_train: pd.DataFrame,\n",
    "             feat_test: pd.DataFrame,\n",
    "             y_train: pd.Series,\n",
    "             cv: int = 3):\n",
    "    '''Wrapper function around decision tree model\n",
    "\n",
    "    Parameters\n",
    "    ----------\n",
    "    feat_train: pd.DataFrame\n",
    "        Provided training data\n",
    "\n",
    "    feat_test: pd.DataFrame\n",
    "        Provided test data\n",
    "\n",
    "    y_train: pd.Series\n",
    "        Number of cross-validation folds to use\n",
    "\n",
    "    Returns\n",
    "    -------\n",
    "    grid_search: object\n",
    "        Trained model with best parameters obtain from grid search\n",
    "    '''\n",
    "\n",
    "    # Create the parameter grid\n",
    "    param_grid = {\n",
    "        'max_depth': [None, 1, 2, 3],\n",
    "        'min_samples_split': np.arange(2, 6),\n",
    "        'min_samples_leaf': np.arange(1, 14),\n",
    "        'class_weight': ['balanced', None]\n",
    "    }\n",
    "    # Create a base model\n",
    "    dtc = DecisionTreeClassifier()\n",
    "    # Instantiate the grid search model\n",
    "    grid_search = GridSearchCV(estimator=dtc,\n",
    "                               param_grid=param_grid,\n",
    "                               cv=cv,\n",
    "                               scoring='f1_macro',\n",
    "                               n_jobs=-1,\n",
    "                               verbose=2)\n",
    "    grid_search.fit(feat_train, y_train)\n",
    "    return grid_search"
   ]
  },
  {
   "cell_type": "code",
   "execution_count": 23,
   "id": "877c16b9",
   "metadata": {
    "ExecuteTime": {
     "end_time": "2022-03-10T01:47:01.616273Z",
     "start_time": "2022-03-10T01:47:01.542940Z"
    }
   },
   "outputs": [],
   "source": [
    "def results(model: str,\n",
    "            X_train: pd.DataFrame,\n",
    "            X_test: pd.DataFrame,\n",
    "            y_train: pd.Series,\n",
    "            y_test: pd.Series,\n",
    "            cv: int = 3):\n",
    "    '''Function to output model performance and other results\n",
    "\n",
    "    Parameters\n",
    "    ----------\n",
    "    model: str\n",
    "        Wrapper function name\n",
    "    \n",
    "    X_train: pd.DataFrame\n",
    "        Provided train data\n",
    "\n",
    "    X_test: pd.DataFrame\n",
    "        Provided test data\n",
    "\n",
    "    y_train: pd.Series\n",
    "        Train Labels\n",
    "\n",
    "    y_test: pd.Series\n",
    "        Test Labels\n",
    "\n",
    "    cv: int, default=3\n",
    "        Create a model if True; Compare if False\n",
    "    '''\n",
    "\n",
    "    grid = model(X_train, X_test, y_train, cv)\n",
    "    # Best parameters of the best model obtained from Grid Search\n",
    "    print(f\"Best parameters: {grid.best_params_}\")\n",
    "    grid_pred = grid.predict(X_test)\n",
    "    # Classification report of the models\n",
    "    print((classification_report(y_test, grid_pred)))\n",
    "    # Plotting Confusion matrix of the models\n",
    "    plot_confusion_matrix(grid, X_test, y_test)\n",
    "    plt.show()"
   ]
  },
  {
   "cell_type": "code",
   "execution_count": 24,
   "id": "e6d78d43",
   "metadata": {
    "ExecuteTime": {
     "end_time": "2022-03-10T01:47:05.288526Z",
     "start_time": "2022-03-10T01:47:01.617275Z"
    }
   },
   "outputs": [
    {
     "name": "stdout",
     "output_type": "stream",
     "text": [
      "Fitting 3 folds for each of 416 candidates, totalling 1248 fits\n"
     ]
    },
    {
     "name": "stderr",
     "output_type": "stream",
     "text": [
      "[Parallel(n_jobs=-1)]: Using backend LokyBackend with 8 concurrent workers.\n",
      "[Parallel(n_jobs=-1)]: Done  25 tasks      | elapsed:    2.1s\n",
      "[Parallel(n_jobs=-1)]: Done 1076 tasks      | elapsed:    3.2s\n",
      "[Parallel(n_jobs=-1)]: Done 1248 out of 1248 | elapsed:    3.4s finished\n"
     ]
    },
    {
     "name": "stdout",
     "output_type": "stream",
     "text": [
      "Best parameters: {'class_weight': None, 'max_depth': None, 'min_samples_leaf': 3, 'min_samples_split': 3}\n",
      "              precision    recall  f1-score   support\n",
      "\n",
      "           0       0.32      0.46      0.37        13\n",
      "           1       0.67      0.63      0.65        38\n",
      "           2       0.75      0.56      0.64        16\n",
      "\n",
      "    accuracy                           0.58        67\n",
      "   macro avg       0.58      0.55      0.56        67\n",
      "weighted avg       0.62      0.58      0.59        67\n",
      "\n"
     ]
    },
    {
     "data": {
      "image/png": "[encoded data removed]",
      "text/plain": [
       "<Figure size 432x288 with 2 Axes>"
      ]
     },
     "metadata": {
      "needs_background": "light"
     },
     "output_type": "display_data"
    }
   ],
   "source": [
    "# Decision Tree Model Results and Elston Histologic Grade as the target column\n",
    "results(dtc_grid, *data_split(neg_X_columns=['EistonHistologicGrade', 'sampleID'], y_column='EistonHistologicGrade'))"
   ]
  },
  {
   "cell_type": "code",
   "execution_count": 25,
   "id": "7ac4d10b",
   "metadata": {
    "ExecuteTime": {
     "end_time": "2022-03-10T01:47:05.320260Z",
     "start_time": "2022-03-10T01:47:05.290662Z"
    }
   },
   "outputs": [],
   "source": [
    "from lightgbm import LGBMClassifier\n",
    "\n",
    "\n",
    "def lightgbm_grid(feat_train: pd.DataFrame,\n",
    "                  feat_test: pd.DataFrame,\n",
    "                  y_train: pd.Series,\n",
    "                  cv: int = 3):\n",
    "    '''Wrapper function around decision tree model\n",
    "\n",
    "    Parameters\n",
    "    ----------\n",
    "    feat_train: pd.DataFrame\n",
    "        Provided training data\n",
    "\n",
    "    feat_test: pd.DataFrame\n",
    "        Provided test data\n",
    "\n",
    "    y_train: pd.Series\n",
    "        Number of cross-validation folds to use\n",
    "\n",
    "    Returns\n",
    "    -------\n",
    "    grid_search: object\n",
    "        Trained model with best parameters obtain from grid search\n",
    "    '''\n",
    "\n",
    "    # Create the parameter grid\n",
    "    param_grid = {\n",
    "        'max_depth': [-1, 0, 1, 2, 3],\n",
    "        'learning_rate': 0.1 * np.arange(1, 6),\n",
    "        'n_estimators': np.arange(70, 130, 10),\n",
    "        'class_weight': ['balanced', None]\n",
    "    }\n",
    "    # Create a base model\n",
    "    lightgbm = LGBMClassifier()\n",
    "    # Instantiate the grid search model\n",
    "    grid_search = GridSearchCV(estimator=lightgbm,\n",
    "                               param_grid=param_grid,\n",
    "                               cv=3,\n",
    "                               scoring='f1_macro',\n",
    "                               n_jobs=-1,\n",
    "                               verbose=2)\n",
    "    grid_search.fit(feat_train, y_train)\n",
    "    return grid_search"
   ]
  },
  {
   "cell_type": "code",
   "execution_count": 26,
   "id": "f5773ed9",
   "metadata": {
    "ExecuteTime": {
     "end_time": "2022-03-10T01:47:12.022923Z",
     "start_time": "2022-03-10T01:47:05.325257Z"
    }
   },
   "outputs": [
    {
     "name": "stdout",
     "output_type": "stream",
     "text": [
      "Fitting 3 folds for each of 300 candidates, totalling 900 fits\n"
     ]
    },
    {
     "name": "stderr",
     "output_type": "stream",
     "text": [
      "[Parallel(n_jobs=-1)]: Using backend LokyBackend with 8 concurrent workers.\n",
      "[Parallel(n_jobs=-1)]: Done  25 tasks      | elapsed:    0.4s\n",
      "[Parallel(n_jobs=-1)]: Done 432 tasks      | elapsed:    2.7s\n",
      "[Parallel(n_jobs=-1)]: Done 900 out of 900 | elapsed:    6.3s finished\n"
     ]
    },
    {
     "name": "stdout",
     "output_type": "stream",
     "text": [
      "Best parameters: {'class_weight': None, 'learning_rate': 0.1, 'max_depth': 1, 'n_estimators': 90}\n",
      "              precision    recall  f1-score   support\n",
      "\n",
      "           0       0.60      0.46      0.52        13\n",
      "           1       0.71      0.79      0.75        38\n",
      "           2       0.67      0.62      0.65        16\n",
      "\n",
      "    accuracy                           0.69        67\n",
      "   macro avg       0.66      0.63      0.64        67\n",
      "weighted avg       0.68      0.69      0.68        67\n",
      "\n"
     ]
    },
    {
     "data": {
      "image/png": "[encoded data removed]",
      "text/plain": [
       "<Figure size 432x288 with 2 Axes>"
      ]
     },
     "metadata": {
      "needs_background": "light"
     },
     "output_type": "display_data"
    }
   ],
   "source": [
    "# Light Gradient Boosting Machine Model Results and Elston Histologic Grade as the target column\n",
    "results(\n",
    "    lightgbm_grid,\n",
    "    *data_split(neg_X_columns=['EistonHistologicGrade', 'sampleID'],\n",
    "                y_column='EistonHistologicGrade'))"
   ]
  },
  {
   "cell_type": "code",
   "execution_count": null,
   "id": "31599ce9",
   "metadata": {},
   "outputs": [],
   "source": []
  }
 ],
 "metadata": {
  "kernelspec": {
   "display_name": "Python 3 (ipykernel)",
   "language": "python",
   "name": "python3"
  },
  "language_info": {
   "codemirror_mode": {
    "name": "ipython",
    "version": 3
   },
   "file_extension": ".py",
   "mimetype": "text/x-python",
   "name": "python",
   "nbconvert_exporter": "python",
   "pygments_lexer": "ipython3",
   "version": "3.8.0"
  },
  "toc": {
   "base_numbering": 1,
   "nav_menu": {},
   "number_sections": true,
   "sideBar": true,
   "skip_h1_title": false,
   "title_cell": "Table of Contents",
   "title_sidebar": "Contents",
   "toc_cell": false,
   "toc_position": {},
   "toc_section_display": true,
   "toc_window_display": false
  },
  "varInspector": {
   "cols": {
    "lenName": 16,
    "lenType": 16,
    "lenVar": 40
   },
   "kernels_config": {
    "python": {
     "delete_cmd_postfix": "",
     "delete_cmd_prefix": "del ",
     "library": "var_list.py",
     "varRefreshCmd": "print(var_dic_list())"
    },
    "r": {
     "delete_cmd_postfix": ") ",
     "delete_cmd_prefix": "rm(",
     "library": "var_list.r",
     "varRefreshCmd": "cat(var_dic_list()) "
    }
   },
   "types_to_exclude": [
    "module",
    "function",
    "builtin_function_or_method",
    "instance",
    "_Feature"
   ],
   "window_display": false
  }
 },
 "nbformat": 4,
 "nbformat_minor": 5
}
