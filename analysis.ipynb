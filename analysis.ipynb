{
 "cells": [
  {
   "cell_type": "code",
   "execution_count": 1,
   "id": "2fd7b0b5",
   "metadata": {
    "ExecuteTime": {
     "end_time": "2022-03-10T03:40:47.634301Z",
     "start_time": "2022-03-10T03:40:45.652334Z"
    }
   },
   "outputs": [],
   "source": [
    "# Importing libraries\n",
    "import matplotlib.pyplot as plt \n",
    "import numpy as np\n",
    "import pandas as pd\n",
    "import requests\n",
    "import seaborn as sns\n",
    "\n",
    "from sklearn.metrics import classification_report, plot_confusion_matrix, r2_score\n",
    "from sklearn.model_selection import GridSearchCV, train_test_split\n",
    "from typing import List, Optional"
   ]
  },
  {
   "cell_type": "markdown",
   "id": "5bdb5196",
   "metadata": {},
   "source": [
    "## EDA"
   ]
  },
  {
   "cell_type": "code",
   "execution_count": 2,
   "id": "ab89a065",
   "metadata": {
    "ExecuteTime": {
     "end_time": "2022-03-10T03:40:47.650190Z",
     "start_time": "2022-03-10T03:40:47.640219Z"
    }
   },
   "outputs": [],
   "source": [
    "BASE_URL = 'https://xenabrowser.net/datapages/?cohort=Breast%20Cancer%20(Miller%202005)&removeHub=https%3A%2F%2Fxena.treehouse.gi.ucsc.edu%3A443'\n",
    "PHENOTYPE_URL = 'https://ucsc-public-main-xena-hub.s3.us-east-1.amazonaws.com/download/miller2005_public%2Fmiller2005_public_clinicalMatrix.gz'\n",
    "GENE_EXP = 'https://ucsc-public-main-xena-hub.s3.us-east-1.amazonaws.com/download/miller2005_public%2Fmiller2005_genomicMatrix.gz'"
   ]
  },
  {
   "cell_type": "code",
   "execution_count": 3,
   "id": "932c506b",
   "metadata": {
    "ExecuteTime": {
     "end_time": "2022-03-10T03:40:48.153549Z",
     "start_time": "2022-03-10T03:40:47.652186Z"
    }
   },
   "outputs": [],
   "source": [
    "filename = PHENOTYPE_URL.split(\"/\")[-1]\n",
    "with open(filename, \"wb\") as f:\n",
    "    r = requests.get(PHENOTYPE_URL)\n",
    "    f.write(r.content)"
   ]
  },
  {
   "cell_type": "code",
   "execution_count": 4,
   "id": "aefdd0a2",
   "metadata": {
    "ExecuteTime": {
     "end_time": "2022-03-10T03:40:48.185122Z",
     "start_time": "2022-03-10T03:40:48.158357Z"
    }
   },
   "outputs": [],
   "source": [
    "import gzip\n",
    "with gzip.open(filename) as f:\n",
    "    pheno_df = pd.read_csv(f, sep='\\t')"
   ]
  },
  {
   "cell_type": "code",
   "execution_count": 5,
   "id": "b226bb57",
   "metadata": {
    "ExecuteTime": {
     "end_time": "2022-03-10T03:40:48.216136Z",
     "start_time": "2022-03-10T03:40:48.188212Z"
    }
   },
   "outputs": [
    {
     "data": {
      "text/html": [
       "<div>\n",
       "<style scoped>\n",
       "    .dataframe tbody tr th:only-of-type {\n",
       "        vertical-align: middle;\n",
       "    }\n",
       "\n",
       "    .dataframe tbody tr th {\n",
       "        vertical-align: top;\n",
       "    }\n",
       "\n",
       "    .dataframe thead th {\n",
       "        text-align: right;\n",
       "    }\n",
       "</style>\n",
       "<table border=\"1\" class=\"dataframe\">\n",
       "  <thead>\n",
       "    <tr style=\"text-align: right;\">\n",
       "      <th></th>\n",
       "      <th>sampleID</th>\n",
       "      <th>AgeAtDiagnosis</th>\n",
       "      <th>DLDAerror</th>\n",
       "      <th>DSS</th>\n",
       "      <th>DSS.time</th>\n",
       "      <th>ERstatus</th>\n",
       "      <th>EistonHistologicGrade</th>\n",
       "      <th>LymphNodeStatus</th>\n",
       "      <th>PgRstatus</th>\n",
       "      <th>TumorSize</th>\n",
       "      <th>_INTEGRATION</th>\n",
       "      <th>_PATIENT</th>\n",
       "      <th>p53DLDAclassResult</th>\n",
       "      <th>p53mutant</th>\n",
       "      <th>_GENOMIC_ID_miller2005</th>\n",
       "    </tr>\n",
       "  </thead>\n",
       "  <tbody>\n",
       "    <tr>\n",
       "      <th>0</th>\n",
       "      <td>X100B08</td>\n",
       "      <td>68</td>\n",
       "      <td>No</td>\n",
       "      <td>AliveOrCensored</td>\n",
       "      <td>12.0</td>\n",
       "      <td>ER+</td>\n",
       "      <td>G1</td>\n",
       "      <td>LN-</td>\n",
       "      <td>PgR-</td>\n",
       "      <td>9.0</td>\n",
       "      <td>X100B08</td>\n",
       "      <td>X100B08</td>\n",
       "      <td>WT-like</td>\n",
       "      <td>p53-</td>\n",
       "      <td>X100B08</td>\n",
       "    </tr>\n",
       "    <tr>\n",
       "      <th>1</th>\n",
       "      <td>X101B88</td>\n",
       "      <td>40</td>\n",
       "      <td>No</td>\n",
       "      <td>AliveOrCensored</td>\n",
       "      <td>12.0</td>\n",
       "      <td>ER-</td>\n",
       "      <td>G3</td>\n",
       "      <td>LN-</td>\n",
       "      <td>PgR-</td>\n",
       "      <td>12.0</td>\n",
       "      <td>X101B88</td>\n",
       "      <td>X101B88</td>\n",
       "      <td>MT-like</td>\n",
       "      <td>p53+</td>\n",
       "      <td>X101B88</td>\n",
       "    </tr>\n",
       "    <tr>\n",
       "      <th>2</th>\n",
       "      <td>X102B06</td>\n",
       "      <td>51</td>\n",
       "      <td>No</td>\n",
       "      <td>AliveOrCensored</td>\n",
       "      <td>12.0</td>\n",
       "      <td>ER+</td>\n",
       "      <td>G3</td>\n",
       "      <td>LN-</td>\n",
       "      <td>PgR+</td>\n",
       "      <td>26.0</td>\n",
       "      <td>X102B06</td>\n",
       "      <td>X102B06</td>\n",
       "      <td>MT-like</td>\n",
       "      <td>p53+</td>\n",
       "      <td>X102B06</td>\n",
       "    </tr>\n",
       "    <tr>\n",
       "      <th>3</th>\n",
       "      <td>X103B41</td>\n",
       "      <td>52</td>\n",
       "      <td>Yes</td>\n",
       "      <td>NaN</td>\n",
       "      <td>NaN</td>\n",
       "      <td>ER-</td>\n",
       "      <td>G3</td>\n",
       "      <td>LN+</td>\n",
       "      <td>PgR-</td>\n",
       "      <td>22.0</td>\n",
       "      <td>X103B41</td>\n",
       "      <td>X103B41</td>\n",
       "      <td>MT-like</td>\n",
       "      <td>p53-</td>\n",
       "      <td>X103B41</td>\n",
       "    </tr>\n",
       "    <tr>\n",
       "      <th>4</th>\n",
       "      <td>X104B91</td>\n",
       "      <td>80</td>\n",
       "      <td>Yes</td>\n",
       "      <td>AliveOrCensored</td>\n",
       "      <td>4.0</td>\n",
       "      <td>ER+</td>\n",
       "      <td>G3</td>\n",
       "      <td>NaN</td>\n",
       "      <td>PgR+</td>\n",
       "      <td>24.0</td>\n",
       "      <td>X104B91</td>\n",
       "      <td>X104B91</td>\n",
       "      <td>WT-like</td>\n",
       "      <td>p53+</td>\n",
       "      <td>X104B91</td>\n",
       "    </tr>\n",
       "    <tr>\n",
       "      <th>...</th>\n",
       "      <td>...</td>\n",
       "      <td>...</td>\n",
       "      <td>...</td>\n",
       "      <td>...</td>\n",
       "      <td>...</td>\n",
       "      <td>...</td>\n",
       "      <td>...</td>\n",
       "      <td>...</td>\n",
       "      <td>...</td>\n",
       "      <td>...</td>\n",
       "      <td>...</td>\n",
       "      <td>...</td>\n",
       "      <td>...</td>\n",
       "      <td>...</td>\n",
       "      <td>...</td>\n",
       "    </tr>\n",
       "    <tr>\n",
       "      <th>246</th>\n",
       "      <td>X90A63</td>\n",
       "      <td>76</td>\n",
       "      <td>Yes</td>\n",
       "      <td>AliveOrCensored</td>\n",
       "      <td>3.0</td>\n",
       "      <td>ER+</td>\n",
       "      <td>G3</td>\n",
       "      <td>LN-</td>\n",
       "      <td>PgR-</td>\n",
       "      <td>26.0</td>\n",
       "      <td>X90A63</td>\n",
       "      <td>X90A63</td>\n",
       "      <td>MT-like</td>\n",
       "      <td>p53-</td>\n",
       "      <td>X90A63</td>\n",
       "    </tr>\n",
       "    <tr>\n",
       "      <th>247</th>\n",
       "      <td>X94A16</td>\n",
       "      <td>73</td>\n",
       "      <td>No</td>\n",
       "      <td>NaN</td>\n",
       "      <td>NaN</td>\n",
       "      <td>ER+</td>\n",
       "      <td>G2</td>\n",
       "      <td>LN-</td>\n",
       "      <td>PgR+</td>\n",
       "      <td>6.0</td>\n",
       "      <td>X94A16</td>\n",
       "      <td>X94A16</td>\n",
       "      <td>WT-like</td>\n",
       "      <td>p53-</td>\n",
       "      <td>X94A16</td>\n",
       "    </tr>\n",
       "    <tr>\n",
       "      <th>248</th>\n",
       "      <td>X96A21</td>\n",
       "      <td>63</td>\n",
       "      <td>No</td>\n",
       "      <td>DeathFromCancer</td>\n",
       "      <td>0.0</td>\n",
       "      <td>ER+</td>\n",
       "      <td>G2</td>\n",
       "      <td>LN+</td>\n",
       "      <td>PgR+</td>\n",
       "      <td>38.0</td>\n",
       "      <td>X96A21</td>\n",
       "      <td>X96A21</td>\n",
       "      <td>WT-like</td>\n",
       "      <td>p53-</td>\n",
       "      <td>X96A21</td>\n",
       "    </tr>\n",
       "    <tr>\n",
       "      <th>249</th>\n",
       "      <td>X99A50</td>\n",
       "      <td>82</td>\n",
       "      <td>Yes</td>\n",
       "      <td>AliveOrCensored</td>\n",
       "      <td>11.0</td>\n",
       "      <td>ER+</td>\n",
       "      <td>G1</td>\n",
       "      <td>LN-</td>\n",
       "      <td>PgR+</td>\n",
       "      <td>19.0</td>\n",
       "      <td>X99A50</td>\n",
       "      <td>X99A50</td>\n",
       "      <td>WT-like</td>\n",
       "      <td>p53+</td>\n",
       "      <td>X99A50</td>\n",
       "    </tr>\n",
       "    <tr>\n",
       "      <th>250</th>\n",
       "      <td>X9B52</td>\n",
       "      <td>71</td>\n",
       "      <td>No</td>\n",
       "      <td>AliveOrCensored</td>\n",
       "      <td>11.0</td>\n",
       "      <td>ER+</td>\n",
       "      <td>G2</td>\n",
       "      <td>LN-</td>\n",
       "      <td>PgR+</td>\n",
       "      <td>12.0</td>\n",
       "      <td>X9B52</td>\n",
       "      <td>X9B52</td>\n",
       "      <td>WT-like</td>\n",
       "      <td>p53-</td>\n",
       "      <td>X9B52</td>\n",
       "    </tr>\n",
       "  </tbody>\n",
       "</table>\n",
       "<p>251 rows × 15 columns</p>\n",
       "</div>"
      ],
      "text/plain": [
       "    sampleID  AgeAtDiagnosis DLDAerror              DSS  DSS.time ERstatus  \\\n",
       "0    X100B08              68        No  AliveOrCensored      12.0      ER+   \n",
       "1    X101B88              40        No  AliveOrCensored      12.0      ER-   \n",
       "2    X102B06              51        No  AliveOrCensored      12.0      ER+   \n",
       "3    X103B41              52       Yes              NaN       NaN      ER-   \n",
       "4    X104B91              80       Yes  AliveOrCensored       4.0      ER+   \n",
       "..       ...             ...       ...              ...       ...      ...   \n",
       "246   X90A63              76       Yes  AliveOrCensored       3.0      ER+   \n",
       "247   X94A16              73        No              NaN       NaN      ER+   \n",
       "248   X96A21              63        No  DeathFromCancer       0.0      ER+   \n",
       "249   X99A50              82       Yes  AliveOrCensored      11.0      ER+   \n",
       "250    X9B52              71        No  AliveOrCensored      11.0      ER+   \n",
       "\n",
       "    EistonHistologicGrade LymphNodeStatus PgRstatus  TumorSize _INTEGRATION  \\\n",
       "0                      G1             LN-      PgR-        9.0      X100B08   \n",
       "1                      G3             LN-      PgR-       12.0      X101B88   \n",
       "2                      G3             LN-      PgR+       26.0      X102B06   \n",
       "3                      G3             LN+      PgR-       22.0      X103B41   \n",
       "4                      G3             NaN      PgR+       24.0      X104B91   \n",
       "..                    ...             ...       ...        ...          ...   \n",
       "246                    G3             LN-      PgR-       26.0       X90A63   \n",
       "247                    G2             LN-      PgR+        6.0       X94A16   \n",
       "248                    G2             LN+      PgR+       38.0       X96A21   \n",
       "249                    G1             LN-      PgR+       19.0       X99A50   \n",
       "250                    G2             LN-      PgR+       12.0        X9B52   \n",
       "\n",
       "    _PATIENT p53DLDAclassResult p53mutant _GENOMIC_ID_miller2005  \n",
       "0    X100B08            WT-like      p53-                X100B08  \n",
       "1    X101B88            MT-like      p53+                X101B88  \n",
       "2    X102B06            MT-like      p53+                X102B06  \n",
       "3    X103B41            MT-like      p53-                X103B41  \n",
       "4    X104B91            WT-like      p53+                X104B91  \n",
       "..       ...                ...       ...                    ...  \n",
       "246   X90A63            MT-like      p53-                 X90A63  \n",
       "247   X94A16            WT-like      p53-                 X94A16  \n",
       "248   X96A21            WT-like      p53-                 X96A21  \n",
       "249   X99A50            WT-like      p53+                 X99A50  \n",
       "250    X9B52            WT-like      p53-                  X9B52  \n",
       "\n",
       "[251 rows x 15 columns]"
      ]
     },
     "execution_count": 5,
     "metadata": {},
     "output_type": "execute_result"
    }
   ],
   "source": [
    "pheno_df"
   ]
  },
  {
   "cell_type": "code",
   "execution_count": 6,
   "id": "107246cf",
   "metadata": {
    "ExecuteTime": {
     "end_time": "2022-03-10T03:40:48.231791Z",
     "start_time": "2022-03-10T03:40:48.217133Z"
    }
   },
   "outputs": [
    {
     "data": {
      "text/plain": [
       "True"
      ]
     },
     "execution_count": 6,
     "metadata": {},
     "output_type": "execute_result"
    }
   ],
   "source": [
    "# Check the equality of sampleID and some other columns \n",
    "pheno_df['sampleID'].equals(\n",
    "    pheno_df['_INTEGRATION']) and pheno_df['_GENOMIC_ID_miller2005'].equals(\n",
    "        pheno_df['_PATIENT']) and pheno_df['sampleID'].equals(\n",
    "            pheno_df['_PATIENT'])"
   ]
  },
  {
   "cell_type": "code",
   "execution_count": 7,
   "id": "fb730065",
   "metadata": {
    "ExecuteTime": {
     "end_time": "2022-03-10T03:40:48.262680Z",
     "start_time": "2022-03-10T03:40:48.233758Z"
    }
   },
   "outputs": [
    {
     "data": {
      "text/html": [
       "<div>\n",
       "<style scoped>\n",
       "    .dataframe tbody tr th:only-of-type {\n",
       "        vertical-align: middle;\n",
       "    }\n",
       "\n",
       "    .dataframe tbody tr th {\n",
       "        vertical-align: top;\n",
       "    }\n",
       "\n",
       "    .dataframe thead th {\n",
       "        text-align: right;\n",
       "    }\n",
       "</style>\n",
       "<table border=\"1\" class=\"dataframe\">\n",
       "  <thead>\n",
       "    <tr style=\"text-align: right;\">\n",
       "      <th></th>\n",
       "      <th>sampleID</th>\n",
       "      <th>AgeAtDiagnosis</th>\n",
       "      <th>DLDAerror</th>\n",
       "      <th>DSS</th>\n",
       "      <th>DSS.time</th>\n",
       "      <th>ERstatus</th>\n",
       "      <th>EistonHistologicGrade</th>\n",
       "      <th>LymphNodeStatus</th>\n",
       "      <th>PgRstatus</th>\n",
       "      <th>TumorSize</th>\n",
       "      <th>p53DLDAclassResult</th>\n",
       "      <th>p53mutant</th>\n",
       "    </tr>\n",
       "  </thead>\n",
       "  <tbody>\n",
       "    <tr>\n",
       "      <th>0</th>\n",
       "      <td>X100B08</td>\n",
       "      <td>68</td>\n",
       "      <td>No</td>\n",
       "      <td>AliveOrCensored</td>\n",
       "      <td>12.0</td>\n",
       "      <td>ER+</td>\n",
       "      <td>G1</td>\n",
       "      <td>LN-</td>\n",
       "      <td>PgR-</td>\n",
       "      <td>9.0</td>\n",
       "      <td>WT-like</td>\n",
       "      <td>p53-</td>\n",
       "    </tr>\n",
       "    <tr>\n",
       "      <th>1</th>\n",
       "      <td>X101B88</td>\n",
       "      <td>40</td>\n",
       "      <td>No</td>\n",
       "      <td>AliveOrCensored</td>\n",
       "      <td>12.0</td>\n",
       "      <td>ER-</td>\n",
       "      <td>G3</td>\n",
       "      <td>LN-</td>\n",
       "      <td>PgR-</td>\n",
       "      <td>12.0</td>\n",
       "      <td>MT-like</td>\n",
       "      <td>p53+</td>\n",
       "    </tr>\n",
       "    <tr>\n",
       "      <th>2</th>\n",
       "      <td>X102B06</td>\n",
       "      <td>51</td>\n",
       "      <td>No</td>\n",
       "      <td>AliveOrCensored</td>\n",
       "      <td>12.0</td>\n",
       "      <td>ER+</td>\n",
       "      <td>G3</td>\n",
       "      <td>LN-</td>\n",
       "      <td>PgR+</td>\n",
       "      <td>26.0</td>\n",
       "      <td>MT-like</td>\n",
       "      <td>p53+</td>\n",
       "    </tr>\n",
       "    <tr>\n",
       "      <th>3</th>\n",
       "      <td>X103B41</td>\n",
       "      <td>52</td>\n",
       "      <td>Yes</td>\n",
       "      <td>NaN</td>\n",
       "      <td>NaN</td>\n",
       "      <td>ER-</td>\n",
       "      <td>G3</td>\n",
       "      <td>LN+</td>\n",
       "      <td>PgR-</td>\n",
       "      <td>22.0</td>\n",
       "      <td>MT-like</td>\n",
       "      <td>p53-</td>\n",
       "    </tr>\n",
       "    <tr>\n",
       "      <th>4</th>\n",
       "      <td>X104B91</td>\n",
       "      <td>80</td>\n",
       "      <td>Yes</td>\n",
       "      <td>AliveOrCensored</td>\n",
       "      <td>4.0</td>\n",
       "      <td>ER+</td>\n",
       "      <td>G3</td>\n",
       "      <td>NaN</td>\n",
       "      <td>PgR+</td>\n",
       "      <td>24.0</td>\n",
       "      <td>WT-like</td>\n",
       "      <td>p53+</td>\n",
       "    </tr>\n",
       "    <tr>\n",
       "      <th>...</th>\n",
       "      <td>...</td>\n",
       "      <td>...</td>\n",
       "      <td>...</td>\n",
       "      <td>...</td>\n",
       "      <td>...</td>\n",
       "      <td>...</td>\n",
       "      <td>...</td>\n",
       "      <td>...</td>\n",
       "      <td>...</td>\n",
       "      <td>...</td>\n",
       "      <td>...</td>\n",
       "      <td>...</td>\n",
       "    </tr>\n",
       "    <tr>\n",
       "      <th>246</th>\n",
       "      <td>X90A63</td>\n",
       "      <td>76</td>\n",
       "      <td>Yes</td>\n",
       "      <td>AliveOrCensored</td>\n",
       "      <td>3.0</td>\n",
       "      <td>ER+</td>\n",
       "      <td>G3</td>\n",
       "      <td>LN-</td>\n",
       "      <td>PgR-</td>\n",
       "      <td>26.0</td>\n",
       "      <td>MT-like</td>\n",
       "      <td>p53-</td>\n",
       "    </tr>\n",
       "    <tr>\n",
       "      <th>247</th>\n",
       "      <td>X94A16</td>\n",
       "      <td>73</td>\n",
       "      <td>No</td>\n",
       "      <td>NaN</td>\n",
       "      <td>NaN</td>\n",
       "      <td>ER+</td>\n",
       "      <td>G2</td>\n",
       "      <td>LN-</td>\n",
       "      <td>PgR+</td>\n",
       "      <td>6.0</td>\n",
       "      <td>WT-like</td>\n",
       "      <td>p53-</td>\n",
       "    </tr>\n",
       "    <tr>\n",
       "      <th>248</th>\n",
       "      <td>X96A21</td>\n",
       "      <td>63</td>\n",
       "      <td>No</td>\n",
       "      <td>DeathFromCancer</td>\n",
       "      <td>0.0</td>\n",
       "      <td>ER+</td>\n",
       "      <td>G2</td>\n",
       "      <td>LN+</td>\n",
       "      <td>PgR+</td>\n",
       "      <td>38.0</td>\n",
       "      <td>WT-like</td>\n",
       "      <td>p53-</td>\n",
       "    </tr>\n",
       "    <tr>\n",
       "      <th>249</th>\n",
       "      <td>X99A50</td>\n",
       "      <td>82</td>\n",
       "      <td>Yes</td>\n",
       "      <td>AliveOrCensored</td>\n",
       "      <td>11.0</td>\n",
       "      <td>ER+</td>\n",
       "      <td>G1</td>\n",
       "      <td>LN-</td>\n",
       "      <td>PgR+</td>\n",
       "      <td>19.0</td>\n",
       "      <td>WT-like</td>\n",
       "      <td>p53+</td>\n",
       "    </tr>\n",
       "    <tr>\n",
       "      <th>250</th>\n",
       "      <td>X9B52</td>\n",
       "      <td>71</td>\n",
       "      <td>No</td>\n",
       "      <td>AliveOrCensored</td>\n",
       "      <td>11.0</td>\n",
       "      <td>ER+</td>\n",
       "      <td>G2</td>\n",
       "      <td>LN-</td>\n",
       "      <td>PgR+</td>\n",
       "      <td>12.0</td>\n",
       "      <td>WT-like</td>\n",
       "      <td>p53-</td>\n",
       "    </tr>\n",
       "  </tbody>\n",
       "</table>\n",
       "<p>251 rows × 12 columns</p>\n",
       "</div>"
      ],
      "text/plain": [
       "    sampleID  AgeAtDiagnosis DLDAerror              DSS  DSS.time ERstatus  \\\n",
       "0    X100B08              68        No  AliveOrCensored      12.0      ER+   \n",
       "1    X101B88              40        No  AliveOrCensored      12.0      ER-   \n",
       "2    X102B06              51        No  AliveOrCensored      12.0      ER+   \n",
       "3    X103B41              52       Yes              NaN       NaN      ER-   \n",
       "4    X104B91              80       Yes  AliveOrCensored       4.0      ER+   \n",
       "..       ...             ...       ...              ...       ...      ...   \n",
       "246   X90A63              76       Yes  AliveOrCensored       3.0      ER+   \n",
       "247   X94A16              73        No              NaN       NaN      ER+   \n",
       "248   X96A21              63        No  DeathFromCancer       0.0      ER+   \n",
       "249   X99A50              82       Yes  AliveOrCensored      11.0      ER+   \n",
       "250    X9B52              71        No  AliveOrCensored      11.0      ER+   \n",
       "\n",
       "    EistonHistologicGrade LymphNodeStatus PgRstatus  TumorSize  \\\n",
       "0                      G1             LN-      PgR-        9.0   \n",
       "1                      G3             LN-      PgR-       12.0   \n",
       "2                      G3             LN-      PgR+       26.0   \n",
       "3                      G3             LN+      PgR-       22.0   \n",
       "4                      G3             NaN      PgR+       24.0   \n",
       "..                    ...             ...       ...        ...   \n",
       "246                    G3             LN-      PgR-       26.0   \n",
       "247                    G2             LN-      PgR+        6.0   \n",
       "248                    G2             LN+      PgR+       38.0   \n",
       "249                    G1             LN-      PgR+       19.0   \n",
       "250                    G2             LN-      PgR+       12.0   \n",
       "\n",
       "    p53DLDAclassResult p53mutant  \n",
       "0              WT-like      p53-  \n",
       "1              MT-like      p53+  \n",
       "2              MT-like      p53+  \n",
       "3              MT-like      p53-  \n",
       "4              WT-like      p53+  \n",
       "..                 ...       ...  \n",
       "246            MT-like      p53-  \n",
       "247            WT-like      p53-  \n",
       "248            WT-like      p53-  \n",
       "249            WT-like      p53+  \n",
       "250            WT-like      p53-  \n",
       "\n",
       "[251 rows x 12 columns]"
      ]
     },
     "execution_count": 7,
     "metadata": {},
     "output_type": "execute_result"
    }
   ],
   "source": [
    "# Dropping columns which are equal to sampleID column\n",
    "pheno_df.drop(['_INTEGRATION', '_PATIENT', '_GENOMIC_ID_miller2005'], axis=1, inplace=True)\n",
    "pheno_df"
   ]
  },
  {
   "cell_type": "code",
   "execution_count": 8,
   "id": "43fdc994",
   "metadata": {
    "ExecuteTime": {
     "end_time": "2022-03-10T03:40:48.278637Z",
     "start_time": "2022-03-10T03:40:48.265673Z"
    }
   },
   "outputs": [
    {
     "data": {
      "text/plain": [
       "(251, 12)"
      ]
     },
     "execution_count": 8,
     "metadata": {},
     "output_type": "execute_result"
    }
   ],
   "source": [
    "pheno_df.shape"
   ]
  },
  {
   "cell_type": "code",
   "execution_count": 9,
   "id": "2bfee38d",
   "metadata": {
    "ExecuteTime": {
     "end_time": "2022-03-10T03:40:48.309591Z",
     "start_time": "2022-03-10T03:40:48.281635Z"
    }
   },
   "outputs": [
    {
     "name": "stdout",
     "output_type": "stream",
     "text": [
      "<class 'pandas.core.frame.DataFrame'>\n",
      "RangeIndex: 251 entries, 0 to 250\n",
      "Data columns (total 12 columns):\n",
      " #   Column                 Non-Null Count  Dtype  \n",
      "---  ------                 --------------  -----  \n",
      " 0   sampleID               251 non-null    object \n",
      " 1   AgeAtDiagnosis         251 non-null    int64  \n",
      " 2   DLDAerror              251 non-null    object \n",
      " 3   DSS                    236 non-null    object \n",
      " 4   DSS.time               236 non-null    float64\n",
      " 5   ERstatus               247 non-null    object \n",
      " 6   EistonHistologicGrade  249 non-null    object \n",
      " 7   LymphNodeStatus        242 non-null    object \n",
      " 8   PgRstatus              251 non-null    object \n",
      " 9   TumorSize              251 non-null    float64\n",
      " 10  p53DLDAclassResult     251 non-null    object \n",
      " 11  p53mutant              251 non-null    object \n",
      "dtypes: float64(2), int64(1), object(9)\n",
      "memory usage: 23.7+ KB\n"
     ]
    }
   ],
   "source": [
    "pheno_df.info()"
   ]
  },
  {
   "cell_type": "code",
   "execution_count": 10,
   "id": "6809b372",
   "metadata": {
    "ExecuteTime": {
     "end_time": "2022-03-10T03:40:48.325541Z",
     "start_time": "2022-03-10T03:40:48.314543Z"
    }
   },
   "outputs": [
    {
     "data": {
      "text/plain": [
       "Index(['DSS', 'DSS.time', 'ERstatus', 'EistonHistologicGrade',\n",
       "       'LymphNodeStatus'],\n",
       "      dtype='object')"
      ]
     },
     "execution_count": 10,
     "metadata": {},
     "output_type": "execute_result"
    }
   ],
   "source": [
    "# Columns which have missing values\n",
    "pheno_df.columns[pheno_df.isna().any()]"
   ]
  },
  {
   "cell_type": "code",
   "execution_count": 11,
   "id": "0b713d5d",
   "metadata": {
    "ExecuteTime": {
     "end_time": "2022-03-10T03:40:48.341509Z",
     "start_time": "2022-03-10T03:40:48.326511Z"
    }
   },
   "outputs": [
    {
     "name": "stdout",
     "output_type": "stream",
     "text": [
      "DLDAerror: ['No' 'Yes']\n",
      "DSS: ['AliveOrCensored' nan 'DeathFromCancer']\n",
      "ERstatus: ['ER+' 'ER-' nan]\n",
      "EistonHistologicGrade: ['G1' 'G3' 'G2' nan]\n",
      "LymphNodeStatus: ['LN-' 'LN+' nan]\n",
      "PgRstatus: ['PgR-' 'PgR+']\n",
      "p53DLDAclassResult: ['WT-like' 'MT-like']\n",
      "p53mutant: ['p53-' 'p53+']\n"
     ]
    }
   ],
   "source": [
    "# Check unique values of categorical data\n",
    "for col in pheno_df.columns[np.r_[2:4, 5:9, 10: 12]]:\n",
    "    print(f'{col}: {pheno_df[col].unique()}')"
   ]
  },
  {
   "cell_type": "code",
   "execution_count": 12,
   "id": "26a3bcba",
   "metadata": {
    "ExecuteTime": {
     "end_time": "2022-03-10T03:40:48.357457Z",
     "start_time": "2022-03-10T03:40:48.343496Z"
    }
   },
   "outputs": [],
   "source": [
    "cleanup = {\n",
    "    'DLDAerror': {\n",
    "        'No': 0,\n",
    "        'Yes': 1\n",
    "    },\n",
    "    'DSS': {\n",
    "        'DeathFromCancer': 0,\n",
    "        'AliveOrCensored': 1\n",
    "    },\n",
    "    'ERstatus': {\n",
    "        'ER-': 0,\n",
    "        'ER+': 1\n",
    "    },\n",
    "    'LymphNodeStatus': {\n",
    "        'LN-': 0,\n",
    "        'LN+': 1\n",
    "    },\n",
    "    'PgRstatus': {\n",
    "        'PgR-': 0,\n",
    "        'PgR+': 1\n",
    "    },\n",
    "    'p53DLDAclassResult': {\n",
    "        'WT-like': 0,\n",
    "        'MT-like': 1\n",
    "    },\n",
    "    'p53mutant': {\n",
    "        'p53-': 0,\n",
    "        'p53+': 1\n",
    "    },\n",
    "    'EistonHistologicGrade': {\n",
    "        'G1': 0,\n",
    "        'G2': 1,\n",
    "        'G3': 2\n",
    "    }\n",
    "}\n",
    "pheno_df.replace(cleanup, inplace=True)"
   ]
  },
  {
   "cell_type": "code",
   "execution_count": 13,
   "id": "9289ae86",
   "metadata": {
    "ExecuteTime": {
     "end_time": "2022-03-10T03:40:48.388383Z",
     "start_time": "2022-03-10T03:40:48.359424Z"
    }
   },
   "outputs": [
    {
     "data": {
      "text/html": [
       "<div>\n",
       "<style scoped>\n",
       "    .dataframe tbody tr th:only-of-type {\n",
       "        vertical-align: middle;\n",
       "    }\n",
       "\n",
       "    .dataframe tbody tr th {\n",
       "        vertical-align: top;\n",
       "    }\n",
       "\n",
       "    .dataframe thead th {\n",
       "        text-align: right;\n",
       "    }\n",
       "</style>\n",
       "<table border=\"1\" class=\"dataframe\">\n",
       "  <thead>\n",
       "    <tr style=\"text-align: right;\">\n",
       "      <th></th>\n",
       "      <th>sampleID</th>\n",
       "      <th>AgeAtDiagnosis</th>\n",
       "      <th>DLDAerror</th>\n",
       "      <th>DSS</th>\n",
       "      <th>DSS.time</th>\n",
       "      <th>ERstatus</th>\n",
       "      <th>EistonHistologicGrade</th>\n",
       "      <th>LymphNodeStatus</th>\n",
       "      <th>PgRstatus</th>\n",
       "      <th>TumorSize</th>\n",
       "      <th>p53DLDAclassResult</th>\n",
       "      <th>p53mutant</th>\n",
       "    </tr>\n",
       "  </thead>\n",
       "  <tbody>\n",
       "    <tr>\n",
       "      <th>0</th>\n",
       "      <td>X100B08</td>\n",
       "      <td>68</td>\n",
       "      <td>0</td>\n",
       "      <td>1.0</td>\n",
       "      <td>12.0</td>\n",
       "      <td>1.0</td>\n",
       "      <td>0.0</td>\n",
       "      <td>0.0</td>\n",
       "      <td>0</td>\n",
       "      <td>9.0</td>\n",
       "      <td>0</td>\n",
       "      <td>0</td>\n",
       "    </tr>\n",
       "    <tr>\n",
       "      <th>1</th>\n",
       "      <td>X101B88</td>\n",
       "      <td>40</td>\n",
       "      <td>0</td>\n",
       "      <td>1.0</td>\n",
       "      <td>12.0</td>\n",
       "      <td>0.0</td>\n",
       "      <td>2.0</td>\n",
       "      <td>0.0</td>\n",
       "      <td>0</td>\n",
       "      <td>12.0</td>\n",
       "      <td>1</td>\n",
       "      <td>1</td>\n",
       "    </tr>\n",
       "    <tr>\n",
       "      <th>2</th>\n",
       "      <td>X102B06</td>\n",
       "      <td>51</td>\n",
       "      <td>0</td>\n",
       "      <td>1.0</td>\n",
       "      <td>12.0</td>\n",
       "      <td>1.0</td>\n",
       "      <td>2.0</td>\n",
       "      <td>0.0</td>\n",
       "      <td>1</td>\n",
       "      <td>26.0</td>\n",
       "      <td>1</td>\n",
       "      <td>1</td>\n",
       "    </tr>\n",
       "    <tr>\n",
       "      <th>3</th>\n",
       "      <td>X103B41</td>\n",
       "      <td>52</td>\n",
       "      <td>1</td>\n",
       "      <td>NaN</td>\n",
       "      <td>NaN</td>\n",
       "      <td>0.0</td>\n",
       "      <td>2.0</td>\n",
       "      <td>1.0</td>\n",
       "      <td>0</td>\n",
       "      <td>22.0</td>\n",
       "      <td>1</td>\n",
       "      <td>0</td>\n",
       "    </tr>\n",
       "    <tr>\n",
       "      <th>4</th>\n",
       "      <td>X104B91</td>\n",
       "      <td>80</td>\n",
       "      <td>1</td>\n",
       "      <td>1.0</td>\n",
       "      <td>4.0</td>\n",
       "      <td>1.0</td>\n",
       "      <td>2.0</td>\n",
       "      <td>NaN</td>\n",
       "      <td>1</td>\n",
       "      <td>24.0</td>\n",
       "      <td>0</td>\n",
       "      <td>1</td>\n",
       "    </tr>\n",
       "    <tr>\n",
       "      <th>...</th>\n",
       "      <td>...</td>\n",
       "      <td>...</td>\n",
       "      <td>...</td>\n",
       "      <td>...</td>\n",
       "      <td>...</td>\n",
       "      <td>...</td>\n",
       "      <td>...</td>\n",
       "      <td>...</td>\n",
       "      <td>...</td>\n",
       "      <td>...</td>\n",
       "      <td>...</td>\n",
       "      <td>...</td>\n",
       "    </tr>\n",
       "    <tr>\n",
       "      <th>246</th>\n",
       "      <td>X90A63</td>\n",
       "      <td>76</td>\n",
       "      <td>1</td>\n",
       "      <td>1.0</td>\n",
       "      <td>3.0</td>\n",
       "      <td>1.0</td>\n",
       "      <td>2.0</td>\n",
       "      <td>0.0</td>\n",
       "      <td>0</td>\n",
       "      <td>26.0</td>\n",
       "      <td>1</td>\n",
       "      <td>0</td>\n",
       "    </tr>\n",
       "    <tr>\n",
       "      <th>247</th>\n",
       "      <td>X94A16</td>\n",
       "      <td>73</td>\n",
       "      <td>0</td>\n",
       "      <td>NaN</td>\n",
       "      <td>NaN</td>\n",
       "      <td>1.0</td>\n",
       "      <td>1.0</td>\n",
       "      <td>0.0</td>\n",
       "      <td>1</td>\n",
       "      <td>6.0</td>\n",
       "      <td>0</td>\n",
       "      <td>0</td>\n",
       "    </tr>\n",
       "    <tr>\n",
       "      <th>248</th>\n",
       "      <td>X96A21</td>\n",
       "      <td>63</td>\n",
       "      <td>0</td>\n",
       "      <td>0.0</td>\n",
       "      <td>0.0</td>\n",
       "      <td>1.0</td>\n",
       "      <td>1.0</td>\n",
       "      <td>1.0</td>\n",
       "      <td>1</td>\n",
       "      <td>38.0</td>\n",
       "      <td>0</td>\n",
       "      <td>0</td>\n",
       "    </tr>\n",
       "    <tr>\n",
       "      <th>249</th>\n",
       "      <td>X99A50</td>\n",
       "      <td>82</td>\n",
       "      <td>1</td>\n",
       "      <td>1.0</td>\n",
       "      <td>11.0</td>\n",
       "      <td>1.0</td>\n",
       "      <td>0.0</td>\n",
       "      <td>0.0</td>\n",
       "      <td>1</td>\n",
       "      <td>19.0</td>\n",
       "      <td>0</td>\n",
       "      <td>1</td>\n",
       "    </tr>\n",
       "    <tr>\n",
       "      <th>250</th>\n",
       "      <td>X9B52</td>\n",
       "      <td>71</td>\n",
       "      <td>0</td>\n",
       "      <td>1.0</td>\n",
       "      <td>11.0</td>\n",
       "      <td>1.0</td>\n",
       "      <td>1.0</td>\n",
       "      <td>0.0</td>\n",
       "      <td>1</td>\n",
       "      <td>12.0</td>\n",
       "      <td>0</td>\n",
       "      <td>0</td>\n",
       "    </tr>\n",
       "  </tbody>\n",
       "</table>\n",
       "<p>251 rows × 12 columns</p>\n",
       "</div>"
      ],
      "text/plain": [
       "    sampleID  AgeAtDiagnosis  DLDAerror  DSS  DSS.time  ERstatus  \\\n",
       "0    X100B08              68          0  1.0      12.0       1.0   \n",
       "1    X101B88              40          0  1.0      12.0       0.0   \n",
       "2    X102B06              51          0  1.0      12.0       1.0   \n",
       "3    X103B41              52          1  NaN       NaN       0.0   \n",
       "4    X104B91              80          1  1.0       4.0       1.0   \n",
       "..       ...             ...        ...  ...       ...       ...   \n",
       "246   X90A63              76          1  1.0       3.0       1.0   \n",
       "247   X94A16              73          0  NaN       NaN       1.0   \n",
       "248   X96A21              63          0  0.0       0.0       1.0   \n",
       "249   X99A50              82          1  1.0      11.0       1.0   \n",
       "250    X9B52              71          0  1.0      11.0       1.0   \n",
       "\n",
       "     EistonHistologicGrade  LymphNodeStatus  PgRstatus  TumorSize  \\\n",
       "0                      0.0              0.0          0        9.0   \n",
       "1                      2.0              0.0          0       12.0   \n",
       "2                      2.0              0.0          1       26.0   \n",
       "3                      2.0              1.0          0       22.0   \n",
       "4                      2.0              NaN          1       24.0   \n",
       "..                     ...              ...        ...        ...   \n",
       "246                    2.0              0.0          0       26.0   \n",
       "247                    1.0              0.0          1        6.0   \n",
       "248                    1.0              1.0          1       38.0   \n",
       "249                    0.0              0.0          1       19.0   \n",
       "250                    1.0              0.0          1       12.0   \n",
       "\n",
       "     p53DLDAclassResult  p53mutant  \n",
       "0                     0          0  \n",
       "1                     1          1  \n",
       "2                     1          1  \n",
       "3                     1          0  \n",
       "4                     0          1  \n",
       "..                  ...        ...  \n",
       "246                   1          0  \n",
       "247                   0          0  \n",
       "248                   0          0  \n",
       "249                   0          1  \n",
       "250                   0          0  \n",
       "\n",
       "[251 rows x 12 columns]"
      ]
     },
     "execution_count": 13,
     "metadata": {},
     "output_type": "execute_result"
    }
   ],
   "source": [
    "pheno_df"
   ]
  },
  {
   "cell_type": "code",
   "execution_count": 14,
   "id": "5c9bb76e",
   "metadata": {
    "ExecuteTime": {
     "end_time": "2022-03-10T03:40:48.419300Z",
     "start_time": "2022-03-10T03:40:48.390342Z"
    }
   },
   "outputs": [
    {
     "data": {
      "text/html": [
       "<div>\n",
       "<style scoped>\n",
       "    .dataframe tbody tr th:only-of-type {\n",
       "        vertical-align: middle;\n",
       "    }\n",
       "\n",
       "    .dataframe tbody tr th {\n",
       "        vertical-align: top;\n",
       "    }\n",
       "\n",
       "    .dataframe thead th {\n",
       "        text-align: right;\n",
       "    }\n",
       "</style>\n",
       "<table border=\"1\" class=\"dataframe\">\n",
       "  <thead>\n",
       "    <tr style=\"text-align: right;\">\n",
       "      <th></th>\n",
       "      <th>sampleID</th>\n",
       "      <th>AgeAtDiagnosis</th>\n",
       "      <th>DLDAerror</th>\n",
       "      <th>DSS</th>\n",
       "      <th>DSS.time</th>\n",
       "      <th>ERstatus</th>\n",
       "      <th>EistonHistologicGrade</th>\n",
       "      <th>LymphNodeStatus</th>\n",
       "      <th>PgRstatus</th>\n",
       "      <th>TumorSize</th>\n",
       "      <th>p53DLDAclassResult</th>\n",
       "      <th>p53mutant</th>\n",
       "    </tr>\n",
       "  </thead>\n",
       "  <tbody>\n",
       "    <tr>\n",
       "      <th>0</th>\n",
       "      <td>X100B08</td>\n",
       "      <td>68</td>\n",
       "      <td>0</td>\n",
       "      <td>1</td>\n",
       "      <td>12.0</td>\n",
       "      <td>1</td>\n",
       "      <td>0</td>\n",
       "      <td>0</td>\n",
       "      <td>0</td>\n",
       "      <td>9.0</td>\n",
       "      <td>0</td>\n",
       "      <td>0</td>\n",
       "    </tr>\n",
       "    <tr>\n",
       "      <th>1</th>\n",
       "      <td>X101B88</td>\n",
       "      <td>40</td>\n",
       "      <td>0</td>\n",
       "      <td>1</td>\n",
       "      <td>12.0</td>\n",
       "      <td>0</td>\n",
       "      <td>2</td>\n",
       "      <td>0</td>\n",
       "      <td>0</td>\n",
       "      <td>12.0</td>\n",
       "      <td>1</td>\n",
       "      <td>1</td>\n",
       "    </tr>\n",
       "    <tr>\n",
       "      <th>2</th>\n",
       "      <td>X102B06</td>\n",
       "      <td>51</td>\n",
       "      <td>0</td>\n",
       "      <td>1</td>\n",
       "      <td>12.0</td>\n",
       "      <td>1</td>\n",
       "      <td>2</td>\n",
       "      <td>0</td>\n",
       "      <td>1</td>\n",
       "      <td>26.0</td>\n",
       "      <td>1</td>\n",
       "      <td>1</td>\n",
       "    </tr>\n",
       "    <tr>\n",
       "      <th>5</th>\n",
       "      <td>X105B13</td>\n",
       "      <td>46</td>\n",
       "      <td>0</td>\n",
       "      <td>1</td>\n",
       "      <td>12.0</td>\n",
       "      <td>1</td>\n",
       "      <td>0</td>\n",
       "      <td>0</td>\n",
       "      <td>1</td>\n",
       "      <td>13.0</td>\n",
       "      <td>0</td>\n",
       "      <td>0</td>\n",
       "    </tr>\n",
       "    <tr>\n",
       "      <th>6</th>\n",
       "      <td>X106B55</td>\n",
       "      <td>37</td>\n",
       "      <td>0</td>\n",
       "      <td>0</td>\n",
       "      <td>7.0</td>\n",
       "      <td>1</td>\n",
       "      <td>0</td>\n",
       "      <td>0</td>\n",
       "      <td>1</td>\n",
       "      <td>60.0</td>\n",
       "      <td>0</td>\n",
       "      <td>0</td>\n",
       "    </tr>\n",
       "  </tbody>\n",
       "</table>\n",
       "</div>"
      ],
      "text/plain": [
       "  sampleID  AgeAtDiagnosis  DLDAerror  DSS  DSS.time  ERstatus  \\\n",
       "0  X100B08              68          0    1      12.0         1   \n",
       "1  X101B88              40          0    1      12.0         0   \n",
       "2  X102B06              51          0    1      12.0         1   \n",
       "5  X105B13              46          0    1      12.0         1   \n",
       "6  X106B55              37          0    0       7.0         1   \n",
       "\n",
       "   EistonHistologicGrade  LymphNodeStatus  PgRstatus  TumorSize  \\\n",
       "0                      0                0          0        9.0   \n",
       "1                      2                0          0       12.0   \n",
       "2                      2                0          1       26.0   \n",
       "5                      0                0          1       13.0   \n",
       "6                      0                0          1       60.0   \n",
       "\n",
       "   p53DLDAclassResult  p53mutant  \n",
       "0                   0          0  \n",
       "1                   1          1  \n",
       "2                   1          1  \n",
       "5                   0          0  \n",
       "6                   0          0  "
      ]
     },
     "execution_count": 14,
     "metadata": {},
     "output_type": "execute_result"
    }
   ],
   "source": [
    "df_dropped = pheno_df.copy(); df_dropped.dropna(inplace=True)\n",
    "# Convert ordinal columns data type to Int64\n",
    "df_dropped[['DSS', 'ERstatus', 'EistonHistologicGrade',\n",
    "          'LymphNodeStatus']] = df_dropped[[\n",
    "              'DSS', 'ERstatus', 'EistonHistologicGrade', 'LymphNodeStatus'\n",
    "          ]].astype('int64')\n",
    "df_dropped.head()"
   ]
  },
  {
   "cell_type": "markdown",
   "id": "8012888f",
   "metadata": {},
   "source": [
    "## Supervised"
   ]
  },
  {
   "cell_type": "markdown",
   "id": "3a85769a",
   "metadata": {},
   "source": [
    "### Regression"
   ]
  },
  {
   "cell_type": "code",
   "execution_count": 15,
   "id": "d53d3b5a",
   "metadata": {
    "ExecuteTime": {
     "end_time": "2022-03-10T03:40:48.690672Z",
     "start_time": "2022-03-10T03:40:48.420260Z"
    }
   },
   "outputs": [
    {
     "data": {
      "image/png": "[encoded data removed]",
      "text/plain": [
       "<Figure size 432x288 with 2 Axes>"
      ]
     },
     "metadata": {
      "needs_background": "light"
     },
     "output_type": "display_data"
    }
   ],
   "source": [
    "# Correlations among the features\n",
    "sns.heatmap(df_dropped.corr(), cmap='coolwarm')\n",
    "plt.show()"
   ]
  },
  {
   "cell_type": "code",
   "execution_count": 16,
   "id": "14949d0c",
   "metadata": {
    "ExecuteTime": {
     "end_time": "2022-03-10T03:40:48.706047Z",
     "start_time": "2022-03-10T03:40:48.692629Z"
    }
   },
   "outputs": [],
   "source": [
    "# Train-test split\n",
    "def data_split(dataframe: pd.DataFrame = df_dropped,\n",
    "               neg_X_columns: List[str] = ['TumorSize'],\n",
    "               y_column: str = 'TumorSize',\n",
    "               test_size: float = 0.20):\n",
    "    '''Split data as train and test according to the flags\n",
    "\n",
    "    Parameters\n",
    "    ----------\n",
    "    neg_X_columns: List[str]\n",
    "        List of columns to exclude for data\n",
    "        \n",
    "    y_column: str\n",
    "        Target/Label column\n",
    "\n",
    "    test_size: float\n",
    "        Test size\n",
    "\n",
    "    Returns [1]\n",
    "    -------\n",
    "    splitting : list, length=2 * len(arrays)\n",
    "        List containing train-test split of inputs.\n",
    "    \n",
    "    [1] https://github.com/scikit-learn/scikit-learn/blob/main/sklearn/model_selection/_split.py\n",
    "    '''\n",
    "\n",
    "    X_train, X_test, y_train, y_test = train_test_split(\n",
    "        dataframe[dataframe.columns.difference(neg_X_columns)],\n",
    "        dataframe.loc[:, y_column],\n",
    "        test_size=test_size,\n",
    "        random_state=42)\n",
    "    return (X_train, X_test, y_train, y_test)"
   ]
  },
  {
   "cell_type": "code",
   "execution_count": 17,
   "id": "31f1ec6f",
   "metadata": {
    "ExecuteTime": {
     "end_time": "2022-03-10T03:40:48.721326Z",
     "start_time": "2022-03-10T03:40:48.707046Z"
    }
   },
   "outputs": [],
   "source": [
    "# Dummy regressor to set a baseline to compare against the other more complex regressors\n",
    "# in other words to check whether the regression models perform better than simple rules\n",
    "from sklearn.dummy import DummyRegressor\n",
    "\n",
    "\n",
    "def dummyreg(X_train, X_test, y_train, y_test, strategy=\"mean\"):\n",
    "    dummy_regr = DummyRegressor(strategy=strategy)\n",
    "    dummy_regr.fit(X_train, y_train)\n",
    "    print(dummy_regr.score(X_test, y_test))"
   ]
  },
  {
   "cell_type": "code",
   "execution_count": 18,
   "id": "1d509b5d",
   "metadata": {
    "ExecuteTime": {
     "end_time": "2022-03-10T03:40:48.737254Z",
     "start_time": "2022-03-10T03:40:48.723004Z"
    }
   },
   "outputs": [
    {
     "name": "stdout",
     "output_type": "stream",
     "text": [
      "-0.05897146156819666\n"
     ]
    }
   ],
   "source": [
    "dummyreg(*data_split(neg_X_columns=['TumorSize', 'sampleID']))"
   ]
  },
  {
   "cell_type": "code",
   "execution_count": 19,
   "id": "041a8902",
   "metadata": {
    "ExecuteTime": {
     "end_time": "2022-03-10T03:40:48.782675Z",
     "start_time": "2022-03-10T03:40:48.743247Z"
    }
   },
   "outputs": [],
   "source": [
    "from sklearn.linear_model import LinearRegression\n",
    "\n",
    "\n",
    "def linreg_grid(feat_train: pd.DataFrame,\n",
    "                feat_test: pd.DataFrame,\n",
    "                y_train: pd.Series,\n",
    "                cv: int = 3):\n",
    "    '''Wrapper function around linear regression model\n",
    "\n",
    "    Parameters\n",
    "    ----------\n",
    "    feat_train: pd.DataFrame\n",
    "        Provided training data\n",
    "\n",
    "    feat_test: pd.DataFrame\n",
    "        Provided test data\n",
    "\n",
    "    y_train: pd.Series\n",
    "        Number of cross-validation folds to use\n",
    "\n",
    "    Returns\n",
    "    -------\n",
    "    grid_search: object\n",
    "        Trained model with best parameters obtain from grid search\n",
    "    '''\n",
    "\n",
    "    # Create the parameter grid\n",
    "    param_grid = {\n",
    "        'fit_intercept': [True, False],\n",
    "        'normalize': [True, False],\n",
    "    }\n",
    "    # Create a base model\n",
    "    linreg = LinearRegression()\n",
    "    # Instantiate the grid search model\n",
    "    grid_search = GridSearchCV(estimator=linreg,\n",
    "                               param_grid=param_grid,\n",
    "                               cv=cv,\n",
    "                               scoring='r2',\n",
    "                               n_jobs=-1,\n",
    "                               verbose=2)\n",
    "    grid_search.fit(feat_train, y_train)\n",
    "    return grid_search"
   ]
  },
  {
   "cell_type": "code",
   "execution_count": 20,
   "id": "4c54260d",
   "metadata": {
    "ExecuteTime": {
     "end_time": "2022-03-10T03:40:48.798404Z",
     "start_time": "2022-03-10T03:40:48.784672Z"
    }
   },
   "outputs": [],
   "source": [
    "def results(model: str,\n",
    "            X_train: pd.DataFrame,\n",
    "            X_test: pd.DataFrame,\n",
    "            y_train: pd.Series,\n",
    "            y_test: pd.Series,\n",
    "            cv: int = 3, title='Regression Plot'):\n",
    "    '''Function to output model performance and other results\n",
    "\n",
    "    Parameters\n",
    "    ----------\n",
    "    model: str\n",
    "        Wrapper function name\n",
    "    \n",
    "    X_train: pd.DataFrame\n",
    "        Provided training data\n",
    "\n",
    "    y_train: pd.Series\n",
    "        Target Series\n",
    "\n",
    "    X_test: pd.DataFrame\n",
    "        Provided test data\n",
    "\n",
    "    title: str, default='Regression Plot'\n",
    "        Title for the Actual -> Predicted Regression Plot\n",
    "    '''\n",
    "\n",
    "    grid = model(X_train, X_test, y_train)\n",
    "    # Best parameters of the best model obtained from Grid Search\n",
    "    print(f\"Best parameters: {grid.best_params_}\")\n",
    "    grid_pred = grid.predict(X_test)\n",
    "    print(f\"R2 for test set: {r2_score(y_test, grid_pred)}\")\n",
    "    # Createa a regression plot and label the x and y axis\n",
    "    sns.regplot(x=y_test, y=grid_pred)\n",
    "    plt.xlabel('Actual')\n",
    "    plt.ylabel('Predicted')\n",
    "    # Title for the plot\n",
    "    plt.title(title)"
   ]
  },
  {
   "cell_type": "code",
   "execution_count": 21,
   "id": "91ac289a",
   "metadata": {
    "ExecuteTime": {
     "end_time": "2022-03-10T03:40:51.160051Z",
     "start_time": "2022-03-10T03:40:48.800360Z"
    }
   },
   "outputs": [
    {
     "name": "stdout",
     "output_type": "stream",
     "text": [
      "Fitting 3 folds for each of 4 candidates, totalling 12 fits\n"
     ]
    },
    {
     "name": "stderr",
     "output_type": "stream",
     "text": [
      "[Parallel(n_jobs=-1)]: Using backend LokyBackend with 8 concurrent workers.\n",
      "[Parallel(n_jobs=-1)]: Done   4 out of  12 | elapsed:    2.0s remaining:    4.1s\n",
      "[Parallel(n_jobs=-1)]: Done  12 out of  12 | elapsed:    2.0s finished\n"
     ]
    },
    {
     "name": "stdout",
     "output_type": "stream",
     "text": [
      "Best parameters: {'fit_intercept': True, 'normalize': False}\n",
      "R2 for test set: 0.26326730077652627\n"
     ]
    },
    {
     "data": {
      "image/png": "[encoded data removed]",
      "text/plain": [
       "<Figure size 432x288 with 1 Axes>"
      ]
     },
     "metadata": {
      "needs_background": "light"
     },
     "output_type": "display_data"
    }
   ],
   "source": [
    "# Linear Regression (0.30 test size)\n",
    "results(\n",
    "    linreg_grid,\n",
    "    *data_split(neg_X_columns=['TumorSize', 'sampleID'], y_column='TumorSize', test_size=0.30),\n",
    "    title='Linear Regression')"
   ]
  },
  {
   "cell_type": "code",
   "execution_count": 22,
   "id": "453b0a94",
   "metadata": {
    "ExecuteTime": {
     "end_time": "2022-03-10T03:40:51.413606Z",
     "start_time": "2022-03-10T03:40:51.162045Z"
    }
   },
   "outputs": [
    {
     "name": "stdout",
     "output_type": "stream",
     "text": [
      "Fitting 3 folds for each of 4 candidates, totalling 12 fits\n",
      "Best parameters: {'fit_intercept': True, 'normalize': False}\n",
      "R2 for test set: 0.34895319735630803\n"
     ]
    },
    {
     "name": "stderr",
     "output_type": "stream",
     "text": [
      "[Parallel(n_jobs=-1)]: Using backend LokyBackend with 8 concurrent workers.\n",
      "[Parallel(n_jobs=-1)]: Done   4 out of  12 | elapsed:    0.0s remaining:    0.0s\n",
      "[Parallel(n_jobs=-1)]: Done  12 out of  12 | elapsed:    0.0s finished\n"
     ]
    },
    {
     "data": {
      "image/png": "[encoded data removed]",
      "text/plain": [
       "<Figure size 432x288 with 1 Axes>"
      ]
     },
     "metadata": {
      "needs_background": "light"
     },
     "output_type": "display_data"
    }
   ],
   "source": [
    "# Linear Regression\n",
    "results(\n",
    "    linreg_grid,\n",
    "    *data_split(neg_X_columns=['TumorSize', 'sampleID'], y_column='TumorSize'),\n",
    "    title='Linear Regression')"
   ]
  },
  {
   "cell_type": "code",
   "execution_count": 23,
   "id": "e296b03a",
   "metadata": {
    "ExecuteTime": {
     "end_time": "2022-03-10T03:40:51.714998Z",
     "start_time": "2022-03-10T03:40:51.416603Z"
    }
   },
   "outputs": [
    {
     "name": "stdout",
     "output_type": "stream",
     "text": [
      "Fitting 3 folds for each of 4 candidates, totalling 12 fits\n",
      "Best parameters: {'fit_intercept': True, 'normalize': True}\n",
      "R2 for test set: 0.3174000126126655\n"
     ]
    },
    {
     "name": "stderr",
     "output_type": "stream",
     "text": [
      "[Parallel(n_jobs=-1)]: Using backend LokyBackend with 8 concurrent workers.\n",
      "[Parallel(n_jobs=-1)]: Done   4 out of  12 | elapsed:    0.0s remaining:    0.1s\n",
      "[Parallel(n_jobs=-1)]: Done  12 out of  12 | elapsed:    0.0s finished\n"
     ]
    },
    {
     "data": {
      "image/png": "[encoded data removed]",
      "text/plain": [
       "<Figure size 432x288 with 1 Axes>"
      ]
     },
     "metadata": {
      "needs_background": "light"
     },
     "output_type": "display_data"
    }
   ],
   "source": [
    "# Linear Regression without p53DLDAclassResult feature\n",
    "results(\n",
    "    linreg_grid,\n",
    "    *data_split(neg_X_columns=['TumorSize', 'sampleID', 'p53DLDAclassResult'],\n",
    "                y_column='TumorSize'),\n",
    "    title='Linear Regression')"
   ]
  },
  {
   "cell_type": "code",
   "execution_count": 24,
   "id": "1b0f096d",
   "metadata": {
    "ExecuteTime": {
     "end_time": "2022-03-10T03:40:51.730662Z",
     "start_time": "2022-03-10T03:40:51.715995Z"
    }
   },
   "outputs": [],
   "source": [
    "from sklearn.linear_model import ElasticNet\n",
    "\n",
    "\n",
    "def elastic_grid(feat_train: pd.DataFrame,\n",
    "                feat_test: pd.DataFrame,\n",
    "                y_train: pd.Series,\n",
    "                cv: int = 3):\n",
    "    '''Wrapper function around ElasticNet regression model\n",
    "\n",
    "    Parameters\n",
    "    ----------\n",
    "    feat_train: pd.DataFrame\n",
    "        Provided training data\n",
    "\n",
    "    feat_test: pd.DataFrame\n",
    "        Provided test data\n",
    "\n",
    "    y_train: pd.Series\n",
    "        Number of cross-validation folds to use\n",
    "\n",
    "    Returns\n",
    "    -------\n",
    "    grid_search: object\n",
    "        Trained model with best parameters obtain from grid search\n",
    "    '''\n",
    "\n",
    "    # Create the parameter grid\n",
    "    param_grid = {\n",
    "         'alpha': 0.1 * np.arange(3, 11),\n",
    "         'normalize': [True, False],\n",
    "         'precompute': [True, False],\n",
    "         'tol': [1 / (10)**i for i in range(0, 6)],\n",
    "         'selection': ['cyclic', 'random']\n",
    "    }\n",
    "    # Create a base model\n",
    "    elastic = ElasticNet()\n",
    "    # Instantiate the grid search model\n",
    "    grid_search = GridSearchCV(estimator=elastic,\n",
    "                               param_grid=param_grid,\n",
    "                               cv=cv,\n",
    "                               scoring='r2',\n",
    "                               n_jobs=-1,\n",
    "                               verbose=2)\n",
    "    grid_search.fit(feat_train, y_train)\n",
    "    return grid_search"
   ]
  },
  {
   "cell_type": "code",
   "execution_count": 25,
   "id": "8407ce55",
   "metadata": {
    "ExecuteTime": {
     "end_time": "2022-03-10T03:40:53.636150Z",
     "start_time": "2022-03-10T03:40:51.732656Z"
    }
   },
   "outputs": [
    {
     "name": "stdout",
     "output_type": "stream",
     "text": [
      "Fitting 3 folds for each of 384 candidates, totalling 1152 fits\n"
     ]
    },
    {
     "name": "stderr",
     "output_type": "stream",
     "text": [
      "[Parallel(n_jobs=-1)]: Using backend LokyBackend with 8 concurrent workers.\n",
      "[Parallel(n_jobs=-1)]: Done  34 tasks      | elapsed:    0.0s\n",
      "[Parallel(n_jobs=-1)]: Done 1152 out of 1152 | elapsed:    1.5s finished\n"
     ]
    },
    {
     "name": "stdout",
     "output_type": "stream",
     "text": [
      "Best parameters: {'alpha': 0.4, 'normalize': False, 'precompute': False, 'selection': 'random', 'tol': 1.0}\n",
      "R2 for test set: 0.21484142963086228\n"
     ]
    },
    {
     "data": {
      "image/png": "[encoded data removed]",
      "text/plain": [
       "<Figure size 432x288 with 1 Axes>"
      ]
     },
     "metadata": {
      "needs_background": "light"
     },
     "output_type": "display_data"
    }
   ],
   "source": [
    "# ElasticNet\n",
    "results(\n",
    "    elastic_grid,\n",
    "    *data_split(neg_X_columns=['TumorSize', 'sampleID'], y_column='TumorSize'),\n",
    "    title='ElasticNet')"
   ]
  },
  {
   "cell_type": "code",
   "execution_count": 26,
   "id": "e00ce21a",
   "metadata": {
    "ExecuteTime": {
     "end_time": "2022-03-10T03:40:55.865365Z",
     "start_time": "2022-03-10T03:40:53.638145Z"
    }
   },
   "outputs": [
    {
     "name": "stdout",
     "output_type": "stream",
     "text": [
      "Fitting 3 folds for each of 384 candidates, totalling 1152 fits\n"
     ]
    },
    {
     "name": "stderr",
     "output_type": "stream",
     "text": [
      "[Parallel(n_jobs=-1)]: Using backend LokyBackend with 8 concurrent workers.\n",
      "[Parallel(n_jobs=-1)]: Done  34 tasks      | elapsed:    0.0s\n",
      "[Parallel(n_jobs=-1)]: Done 1152 out of 1152 | elapsed:    1.8s finished\n"
     ]
    },
    {
     "name": "stdout",
     "output_type": "stream",
     "text": [
      "Best parameters: {'alpha': 0.5, 'normalize': False, 'precompute': False, 'selection': 'random', 'tol': 1.0}\n",
      "R2 for test set: 0.24809561684048587\n"
     ]
    },
    {
     "data": {
      "image/png": "[encoded data removed]",
      "text/plain": [
       "<Figure size 432x288 with 1 Axes>"
      ]
     },
     "metadata": {
      "needs_background": "light"
     },
     "output_type": "display_data"
    }
   ],
   "source": [
    "# ElasticNet without p53DLDAclassResult feature\n",
    "results(\n",
    "    elastic_grid,\n",
    "    *data_split(neg_X_columns=['TumorSize', 'sampleID', 'p53DLDAclassResult'],\n",
    "                y_column='TumorSize'),\n",
    "    title='ElasticNet')"
   ]
  },
  {
   "cell_type": "markdown",
   "id": "ff6edf35",
   "metadata": {},
   "source": [
    "### Classification"
   ]
  },
  {
   "cell_type": "code",
   "execution_count": 27,
   "id": "537d9e0d",
   "metadata": {
    "ExecuteTime": {
     "end_time": "2022-03-10T03:40:55.881353Z",
     "start_time": "2022-03-10T03:40:55.868358Z"
    }
   },
   "outputs": [],
   "source": [
    "# Dummy classifier to set a baseline to compare against the other more complex classifiers\n",
    "# in other words To check whether the ML models perform better than randomly guessing the labels\n",
    "from sklearn.dummy import DummyClassifier\n",
    "\n",
    "\n",
    "def dummyclf(X_train, X_test, y_train, y_test, strategy=\"prior\"):\n",
    "    dummy_clf = DummyClassifier(strategy=strategy)\n",
    "    dummy_clf.fit(X_train, y_train)\n",
    "    # Classification report of the dummy classifier\n",
    "    print((classification_report(y_test,\n",
    "                                 dummy_clf.predict(X_test),\n",
    "                                 zero_division=0)))\n",
    "    # Plotting Confusion matrix of the dummy classifier\n",
    "    plot_confusion_matrix(dummy_clf, X_test, y_test)\n",
    "    plt.show()"
   ]
  },
  {
   "cell_type": "code",
   "execution_count": 28,
   "id": "4ec0086c",
   "metadata": {
    "ExecuteTime": {
     "end_time": "2022-03-10T03:40:56.084779Z",
     "start_time": "2022-03-10T03:40:55.884324Z"
    }
   },
   "outputs": [
    {
     "name": "stdout",
     "output_type": "stream",
     "text": [
      "              precision    recall  f1-score   support\n",
      "\n",
      "           0       0.00      0.00      0.00         9\n",
      "           1       0.49      1.00      0.66        22\n",
      "           2       0.00      0.00      0.00        14\n",
      "\n",
      "    accuracy                           0.49        45\n",
      "   macro avg       0.16      0.33      0.22        45\n",
      "weighted avg       0.24      0.49      0.32        45\n",
      "\n"
     ]
    },
    {
     "data": {
      "image/png": "[encoded data removed]",
      "text/plain": [
       "<Figure size 432x288 with 2 Axes>"
      ]
     },
     "metadata": {
      "needs_background": "light"
     },
     "output_type": "display_data"
    }
   ],
   "source": [
    "dummyclf(*data_split(neg_X_columns=['EistonHistologicGrade', 'sampleID'],\n",
    "                     y_column='EistonHistologicGrade'))"
   ]
  },
  {
   "cell_type": "code",
   "execution_count": 29,
   "id": "84f0f2b6",
   "metadata": {
    "ExecuteTime": {
     "end_time": "2022-03-10T03:40:56.243695Z",
     "start_time": "2022-03-10T03:40:56.086811Z"
    }
   },
   "outputs": [
    {
     "name": "stdout",
     "output_type": "stream",
     "text": [
      "              precision    recall  f1-score   support\n",
      "\n",
      "           0       0.07      0.11      0.09         9\n",
      "           1       0.59      0.73      0.65        22\n",
      "           2       0.75      0.21      0.33        14\n",
      "\n",
      "    accuracy                           0.44        45\n",
      "   macro avg       0.47      0.35      0.36        45\n",
      "weighted avg       0.54      0.44      0.44        45\n",
      "\n"
     ]
    },
    {
     "data": {
      "image/png": "[encoded data removed]",
      "text/plain": [
       "<Figure size 432x288 with 2 Axes>"
      ]
     },
     "metadata": {
      "needs_background": "light"
     },
     "output_type": "display_data"
    }
   ],
   "source": [
    "# Trying stratified strategy\n",
    "dummyclf(*data_split(neg_X_columns=['EistonHistologicGrade', 'sampleID'],\n",
    "                     y_column='EistonHistologicGrade'),\n",
    "         strategy=\"stratified\")"
   ]
  },
  {
   "cell_type": "code",
   "execution_count": 30,
   "id": "9b10e036",
   "metadata": {
    "ExecuteTime": {
     "end_time": "2022-03-10T03:40:56.291124Z",
     "start_time": "2022-03-10T03:40:56.245694Z"
    }
   },
   "outputs": [],
   "source": [
    "from sklearn.tree import DecisionTreeClassifier\n",
    "\n",
    "\n",
    "def dtc_grid(feat_train: pd.DataFrame,\n",
    "             feat_test: pd.DataFrame,\n",
    "             y_train: pd.Series,\n",
    "             cv: int = 3):\n",
    "    '''Wrapper function around decision tree model\n",
    "\n",
    "    Parameters\n",
    "    ----------\n",
    "    feat_train: pd.DataFrame\n",
    "        Provided training data\n",
    "\n",
    "    feat_test: pd.DataFrame\n",
    "        Provided test data\n",
    "\n",
    "    y_train: pd.Series\n",
    "        Number of cross-validation folds to use\n",
    "\n",
    "    Returns\n",
    "    -------\n",
    "    grid_search: object\n",
    "        Trained model with best parameters obtain from grid search\n",
    "    '''\n",
    "\n",
    "    # Create the parameter grid\n",
    "    param_grid = {\n",
    "        'max_depth': [None, 1, 2, 3],\n",
    "        'min_samples_split': np.arange(2, 6),\n",
    "        'min_samples_leaf': np.arange(1, 14),\n",
    "        'class_weight': ['balanced', None]\n",
    "    }\n",
    "    # Create a base model\n",
    "    dtc = DecisionTreeClassifier()\n",
    "    # Instantiate the grid search model\n",
    "    grid_search = GridSearchCV(estimator=dtc,\n",
    "                               param_grid=param_grid,\n",
    "                               cv=cv,\n",
    "                               scoring='f1_macro',\n",
    "                               n_jobs=-1,\n",
    "                               verbose=2)\n",
    "    grid_search.fit(feat_train, y_train)\n",
    "    return grid_search"
   ]
  },
  {
   "cell_type": "code",
   "execution_count": 31,
   "id": "6d2de931",
   "metadata": {
    "ExecuteTime": {
     "end_time": "2022-03-10T03:40:56.307075Z",
     "start_time": "2022-03-10T03:40:56.292799Z"
    }
   },
   "outputs": [],
   "source": [
    "def results(model: str,\n",
    "            X_train: pd.DataFrame,\n",
    "            X_test: pd.DataFrame,\n",
    "            y_train: pd.Series,\n",
    "            y_test: pd.Series,\n",
    "            cv: int = 3):\n",
    "    '''Function to output model performance and other results\n",
    "\n",
    "    Parameters\n",
    "    ----------\n",
    "    model: str\n",
    "        Wrapper function name\n",
    "    \n",
    "    X_train: pd.DataFrame\n",
    "        Provided train data\n",
    "\n",
    "    X_test: pd.DataFrame\n",
    "        Provided test data\n",
    "\n",
    "    y_train: pd.Series\n",
    "        Train Labels\n",
    "\n",
    "    y_test: pd.Series\n",
    "        Test Labels\n",
    "\n",
    "    cv: int, default=3\n",
    "        Create a model if True; Compare if False\n",
    "    '''\n",
    "\n",
    "    grid = model(X_train, X_test, y_train, cv)\n",
    "    # Best parameters of the best model obtained from Grid Search\n",
    "    print(f\"Best parameters: {grid.best_params_}\")\n",
    "    grid_pred = grid.predict(X_test)\n",
    "    # Classification report of the models\n",
    "    print((classification_report(y_test, grid_pred)))\n",
    "    # Plotting Confusion matrix of the models\n",
    "    plot_confusion_matrix(grid, X_test, y_test)\n",
    "    plt.show()"
   ]
  },
  {
   "cell_type": "code",
   "execution_count": 32,
   "id": "fd9dc9e6",
   "metadata": {
    "ExecuteTime": {
     "end_time": "2022-03-10T03:40:58.682322Z",
     "start_time": "2022-03-10T03:40:56.309016Z"
    }
   },
   "outputs": [
    {
     "name": "stdout",
     "output_type": "stream",
     "text": [
      "Fitting 3 folds for each of 416 candidates, totalling 1248 fits\n"
     ]
    },
    {
     "name": "stderr",
     "output_type": "stream",
     "text": [
      "[Parallel(n_jobs=-1)]: Using backend LokyBackend with 8 concurrent workers.\n",
      "[Parallel(n_jobs=-1)]: Done  34 tasks      | elapsed:    0.0s\n",
      "[Parallel(n_jobs=-1)]: Done 1162 tasks      | elapsed:    1.9s\n",
      "[Parallel(n_jobs=-1)]: Done 1248 out of 1248 | elapsed:    2.1s finished\n"
     ]
    },
    {
     "name": "stdout",
     "output_type": "stream",
     "text": [
      "Best parameters: {'class_weight': None, 'max_depth': None, 'min_samples_leaf': 1, 'min_samples_split': 3}\n",
      "              precision    recall  f1-score   support\n",
      "\n",
      "           0       0.27      0.33      0.30         9\n",
      "           1       0.62      0.73      0.67        22\n",
      "           2       0.75      0.43      0.55        14\n",
      "\n",
      "    accuracy                           0.56        45\n",
      "   macro avg       0.55      0.50      0.50        45\n",
      "weighted avg       0.59      0.56      0.56        45\n",
      "\n"
     ]
    },
    {
     "data": {
      "image/png": "[encoded data removed]",
      "text/plain": [
       "<Figure size 432x288 with 2 Axes>"
      ]
     },
     "metadata": {
      "needs_background": "light"
     },
     "output_type": "display_data"
    }
   ],
   "source": [
    "# Decision Tree Model Results and Elston Histologic Grade as the target column\n",
    "results(dtc_grid, *data_split(neg_X_columns=['EistonHistologicGrade', 'sampleID'], y_column='EistonHistologicGrade'))"
   ]
  },
  {
   "cell_type": "code",
   "execution_count": 33,
   "id": "bab1f94e",
   "metadata": {
    "ExecuteTime": {
     "end_time": "2022-03-10T03:40:58.712360Z",
     "start_time": "2022-03-10T03:40:58.686310Z"
    }
   },
   "outputs": [],
   "source": [
    "from lightgbm import LGBMClassifier\n",
    "\n",
    "\n",
    "def lightgbm_grid(feat_train: pd.DataFrame,\n",
    "                  feat_test: pd.DataFrame,\n",
    "                  y_train: pd.Series,\n",
    "                  cv: int = 3):\n",
    "    '''Wrapper function around light gradient boosting machine model\n",
    "\n",
    "    Parameters\n",
    "    ----------\n",
    "    feat_train: pd.DataFrame\n",
    "        Provided training data\n",
    "\n",
    "    feat_test: pd.DataFrame\n",
    "        Provided test data\n",
    "\n",
    "    y_train: pd.Series\n",
    "        Number of cross-validation folds to use\n",
    "\n",
    "    Returns\n",
    "    -------\n",
    "    grid_search: object\n",
    "        Trained model with best parameters obtain from grid search\n",
    "    '''\n",
    "\n",
    "    # Create the parameter grid\n",
    "    param_grid = {\n",
    "        'max_depth': [-1, 0, 1, 2, 3],\n",
    "        'learning_rate': 0.1 * np.arange(1, 6),\n",
    "        'n_estimators': np.arange(70, 130, 10),\n",
    "        'class_weight': ['balanced', None]\n",
    "    }\n",
    "    # Create a base model\n",
    "    lightgbm = LGBMClassifier()\n",
    "    # Instantiate the grid search model\n",
    "    grid_search = GridSearchCV(estimator=lightgbm,\n",
    "                               param_grid=param_grid,\n",
    "                               cv=3,\n",
    "                               scoring='f1_macro',\n",
    "                               n_jobs=-1,\n",
    "                               verbose=2)\n",
    "    grid_search.fit(feat_train, y_train)\n",
    "    return grid_search"
   ]
  },
  {
   "cell_type": "code",
   "execution_count": 34,
   "id": "085614eb",
   "metadata": {
    "ExecuteTime": {
     "end_time": "2022-03-10T03:41:07.401766Z",
     "start_time": "2022-03-10T03:40:58.721341Z"
    }
   },
   "outputs": [
    {
     "name": "stdout",
     "output_type": "stream",
     "text": [
      "Fitting 3 folds for each of 300 candidates, totalling 900 fits\n"
     ]
    },
    {
     "name": "stderr",
     "output_type": "stream",
     "text": [
      "[Parallel(n_jobs=-1)]: Using backend LokyBackend with 8 concurrent workers.\n",
      "[Parallel(n_jobs=-1)]: Done  25 tasks      | elapsed:    0.7s\n",
      "[Parallel(n_jobs=-1)]: Done 408 tasks      | elapsed:    4.1s\n",
      "[Parallel(n_jobs=-1)]: Done 900 out of 900 | elapsed:    8.3s finished\n"
     ]
    },
    {
     "name": "stdout",
     "output_type": "stream",
     "text": [
      "Best parameters: {'class_weight': 'balanced', 'learning_rate': 0.1, 'max_depth': 1, 'n_estimators': 90}\n",
      "              precision    recall  f1-score   support\n",
      "\n",
      "           0       0.40      0.67      0.50         9\n",
      "           1       0.69      0.50      0.58        22\n",
      "           2       0.71      0.71      0.71        14\n",
      "\n",
      "    accuracy                           0.60        45\n",
      "   macro avg       0.60      0.63      0.60        45\n",
      "weighted avg       0.64      0.60      0.61        45\n",
      "\n"
     ]
    },
    {
     "data": {
      "image/png": "[encoded data removed]",
      "text/plain": [
       "<Figure size 432x288 with 2 Axes>"
      ]
     },
     "metadata": {
      "needs_background": "light"
     },
     "output_type": "display_data"
    }
   ],
   "source": [
    "# Light Gradient Boosting Machine Model Results and Elston Histologic Grade as the target column\n",
    "results(\n",
    "    lightgbm_grid,\n",
    "    *data_split(neg_X_columns=['EistonHistologicGrade', 'sampleID'],\n",
    "                y_column='EistonHistologicGrade'))"
   ]
  },
  {
   "cell_type": "code",
   "execution_count": 35,
   "id": "e43988b4",
   "metadata": {
    "ExecuteTime": {
     "end_time": "2022-03-10T03:41:15.248546Z",
     "start_time": "2022-03-10T03:41:07.404758Z"
    }
   },
   "outputs": [
    {
     "name": "stdout",
     "output_type": "stream",
     "text": [
      "Fitting 3 folds for each of 300 candidates, totalling 900 fits\n"
     ]
    },
    {
     "name": "stderr",
     "output_type": "stream",
     "text": [
      "[Parallel(n_jobs=-1)]: Using backend LokyBackend with 8 concurrent workers.\n",
      "[Parallel(n_jobs=-1)]: Done  34 tasks      | elapsed:    0.4s\n",
      "[Parallel(n_jobs=-1)]: Done 276 tasks      | elapsed:    2.4s\n",
      "[Parallel(n_jobs=-1)]: Done 682 tasks      | elapsed:    5.9s\n",
      "[Parallel(n_jobs=-1)]: Done 900 out of 900 | elapsed:    7.7s finished\n"
     ]
    }
   ],
   "source": [
    "best_model = lightgbm_grid(*data_split(neg_X_columns=['EistonHistologicGrade', 'sampleID'], y_column='EistonHistologicGrade'))\n",
    "importance = best_model.best_estimator_.feature_importances_"
   ]
  },
  {
   "cell_type": "code",
   "execution_count": 36,
   "id": "96c9b2b1",
   "metadata": {
    "ExecuteTime": {
     "end_time": "2022-03-10T03:41:15.468955Z",
     "start_time": "2022-03-10T03:41:15.251539Z"
    }
   },
   "outputs": [
    {
     "data": {
      "image/png": "[encoded data removed]",
      "text/plain": [
       "<Figure size 432x288 with 1 Axes>"
      ]
     },
     "metadata": {
      "needs_background": "light"
     },
     "output_type": "display_data"
    }
   ],
   "source": [
    "from matplotlib import pyplot\n",
    "\n",
    "pyplot.bar([x for x in range(len(importance))],\n",
    "           importance)\n",
    "pyplot.show()"
   ]
  },
  {
   "cell_type": "markdown",
   "id": "4a69d889",
   "metadata": {},
   "source": [
    "## Unsupervised"
   ]
  },
  {
   "cell_type": "code",
   "execution_count": 37,
   "id": "5f696dcd",
   "metadata": {
    "ExecuteTime": {
     "end_time": "2022-03-10T03:41:16.360328Z",
     "start_time": "2022-03-10T03:41:15.470951Z"
    }
   },
   "outputs": [
    {
     "data": {
      "text/plain": [
       "Text(0.5, 1.0, 'Elbow curve')"
      ]
     },
     "execution_count": 37,
     "metadata": {},
     "output_type": "execute_result"
    },
    {
     "data": {
      "image/png": "[encoded data removed]",
      "text/plain": [
       "<Figure size 432x288 with 1 Axes>"
      ]
     },
     "metadata": {
      "needs_background": "light"
     },
     "output_type": "display_data"
    }
   ],
   "source": [
    "from sklearn.cluster import KMeans\n",
    "\n",
    "clst_df = df_dropped.drop(['sampleID'], axis=1)\n",
    "distorsions = []\n",
    "for k in range(1, 10):\n",
    "    kmeans = KMeans(n_clusters=k, random_state=42)\n",
    "    kmeans.fit(clst_df)\n",
    "    distorsions.append(kmeans.inertia_)\n",
    "\n",
    "plt.plot(range(1, 10), distorsions, marker='o')\n",
    "plt.grid(True)\n",
    "plt.xlabel('Number of clusters')\n",
    "plt.ylabel('Distortion')\n",
    "plt.title('Elbow curve')"
   ]
  },
  {
   "cell_type": "code",
   "execution_count": 38,
   "id": "e75cc24a",
   "metadata": {
    "ExecuteTime": {
     "end_time": "2022-03-10T03:41:16.423728Z",
     "start_time": "2022-03-10T03:41:16.362880Z"
    }
   },
   "outputs": [
    {
     "data": {
      "text/plain": [
       "array([1, 0, 4, 0, 2, 3, 1, 0, 4, 0, 1, 1, 0, 1, 0, 4, 1, 4, 4, 4, 4, 1,\n",
       "       4, 3, 4, 4, 0, 1, 1, 4, 4, 4, 1, 1, 0, 4, 1, 1, 4, 3, 1, 1, 3, 0,\n",
       "       4, 1, 4, 3, 4, 1, 1, 4, 0, 1, 1, 2, 1, 0, 1, 1, 1, 0, 4, 4, 1, 3,\n",
       "       0, 4, 1, 4, 1, 1, 1, 1, 1, 0, 1, 4, 4, 0, 4, 1, 2, 1, 4, 1, 4, 1,\n",
       "       2, 1, 1, 1, 1, 1, 0, 1, 2, 1, 1, 2, 0, 1, 1, 4, 0, 0, 0, 1, 0, 4,\n",
       "       4, 1, 4, 4, 4, 0, 4, 3, 1, 4, 4, 4, 1, 1, 1, 1, 4, 1, 4, 0, 1, 1,\n",
       "       4, 1, 1, 1, 4, 3, 0, 0, 0, 0, 4, 0, 1, 1, 1, 4, 0, 1, 0, 0, 0, 4,\n",
       "       0, 3, 4, 4, 1, 3, 0, 0, 1, 4, 4, 3, 0, 4, 4, 0, 0, 3, 4, 0, 0, 0,\n",
       "       0, 1, 4, 4, 4, 0, 1, 1, 2, 1, 0, 4, 1, 1, 3, 2, 0, 0, 3, 1, 1, 4,\n",
       "       4, 0, 2, 3, 2, 1, 4, 4, 1, 3, 1, 4, 4, 1, 3, 1, 4, 0, 4, 4, 1, 3,\n",
       "       1, 1])"
      ]
     },
     "execution_count": 38,
     "metadata": {},
     "output_type": "execute_result"
    }
   ],
   "source": [
    "km = KMeans(n_clusters=5, random_state=42)\n",
    "km.fit_predict(clst_df)"
   ]
  },
  {
   "cell_type": "code",
   "execution_count": 39,
   "id": "09a08c88",
   "metadata": {
    "ExecuteTime": {
     "end_time": "2022-03-10T03:41:16.439410Z",
     "start_time": "2022-03-10T03:41:16.425766Z"
    }
   },
   "outputs": [
    {
     "data": {
      "text/plain": [
       "array([[43.02083333,  0.20833333,  0.75      ,  9.0625    ,  0.875     ,\n",
       "         1.02083333,  0.33333333,  0.79166667, 19.08333333,  0.375     ,\n",
       "         0.29166667],\n",
       "       [72.91358025,  0.11111111,  0.82716049,  8.19753086,  0.87654321,\n",
       "         0.81481481,  0.22222222,  0.79012346, 16.37345679,  0.20987654,\n",
       "         0.17283951],\n",
       "       [48.        ,  0.2       ,  0.5       ,  6.7       ,  0.9       ,\n",
       "         1.3       ,  0.8       ,  0.8       , 49.5       ,  0.4       ,\n",
       "         0.4       ],\n",
       "       [78.22222222,  0.16666667,  0.61111111,  4.72222222,  0.88888889,\n",
       "         1.27777778,  0.5       ,  0.61111111, 39.16666667,  0.27777778,\n",
       "         0.33333333],\n",
       "       [58.76923077,  0.15384615,  0.75384615,  9.46153846,  0.84615385,\n",
       "         0.92307692,  0.4       ,  0.78461538, 22.27861538,  0.30769231,\n",
       "         0.21538462]])"
      ]
     },
     "execution_count": 39,
     "metadata": {},
     "output_type": "execute_result"
    }
   ],
   "source": [
    "centroids = km.cluster_centers_\n",
    "centroids"
   ]
  },
  {
   "cell_type": "code",
   "execution_count": 40,
   "id": "3feb6ee8",
   "metadata": {
    "ExecuteTime": {
     "end_time": "2022-03-10T03:41:16.455016Z",
     "start_time": "2022-03-10T03:41:16.440714Z"
    }
   },
   "outputs": [],
   "source": [
    "clst_df['Cluster'] = km.labels_"
   ]
  },
  {
   "cell_type": "code",
   "execution_count": 41,
   "id": "05c3498d",
   "metadata": {
    "ExecuteTime": {
     "end_time": "2022-03-10T03:41:16.582375Z",
     "start_time": "2022-03-10T03:41:16.456055Z"
    }
   },
   "outputs": [
    {
     "data": {
      "text/plain": [
       "<matplotlib.collections.PathCollection at 0x25ba8d1dca0>"
      ]
     },
     "execution_count": 41,
     "metadata": {},
     "output_type": "execute_result"
    },
    {
     "data": {
      "image/png": "[encoded data removed]",
      "text/plain": [
       "<Figure size 432x288 with 1 Axes>"
      ]
     },
     "metadata": {
      "needs_background": "light"
     },
     "output_type": "display_data"
    }
   ],
   "source": [
    "plt.scatter(clst_df['AgeAtDiagnosis'], clst_df['TumorSize'], c=clst_df['Cluster'], cmap='viridis')"
   ]
  },
  {
   "cell_type": "code",
   "execution_count": null,
   "id": "02dc88e5",
   "metadata": {},
   "outputs": [],
   "source": []
  }
 ],
 "metadata": {
  "kernelspec": {
   "display_name": "Python 3 (ipykernel)",
   "language": "python",
   "name": "python3"
  },
  "language_info": {
   "codemirror_mode": {
    "name": "ipython",
    "version": 3
   },
   "file_extension": ".py",
   "mimetype": "text/x-python",
   "name": "python",
   "nbconvert_exporter": "python",
   "pygments_lexer": "ipython3",
   "version": "3.8.0"
  },
  "toc": {
   "base_numbering": 1,
   "nav_menu": {},
   "number_sections": true,
   "sideBar": true,
   "skip_h1_title": false,
   "title_cell": "Table of Contents",
   "title_sidebar": "Contents",
   "toc_cell": false,
   "toc_position": {},
   "toc_section_display": true,
   "toc_window_display": false
  },
  "varInspector": {
   "cols": {
    "lenName": 16,
    "lenType": 16,
    "lenVar": 40
   },
   "kernels_config": {
    "python": {
     "delete_cmd_postfix": "",
     "delete_cmd_prefix": "del ",
     "library": "var_list.py",
     "varRefreshCmd": "print(var_dic_list())"
    },
    "r": {
     "delete_cmd_postfix": ") ",
     "delete_cmd_prefix": "rm(",
     "library": "var_list.r",
     "varRefreshCmd": "cat(var_dic_list()) "
    }
   },
   "types_to_exclude": [
    "module",
    "function",
    "builtin_function_or_method",
    "instance",
    "_Feature"
   ],
   "window_display": false
  }
 },
 "nbformat": 4,
 "nbformat_minor": 5
}
